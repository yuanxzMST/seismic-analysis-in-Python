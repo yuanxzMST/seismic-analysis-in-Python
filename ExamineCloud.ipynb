{
  "nbformat": 4,
  "nbformat_minor": 0,
  "metadata": {
    "colab": {
      "name": "ExamineCloud.ipynb",
      "provenance": [],
      "collapsed_sections": [],
      "authorship_tag": "ABX9TyPly7nNkX1weEDhvd3SC9sF",
      "include_colab_link": true
    },
    "kernelspec": {
      "name": "python3",
      "display_name": "Python 3"
    },
    "language_info": {
      "name": "python"
    }
  },
  "cells": [
    {
      "cell_type": "markdown",
      "metadata": {
        "id": "view-in-github",
        "colab_type": "text"
      },
      "source": [
        "<a href=\"https://colab.research.google.com/github/yuanxzMST/seismic-analysis-in-Python/blob/main/ExamineCloud.ipynb\" target=\"_parent\"><img src=\"https://colab.research.google.com/assets/colab-badge.svg\" alt=\"Open In Colab\"/></a>"
      ]
    },
    {
      "cell_type": "markdown",
      "metadata": {
        "id": "OTDk7lDZpyca"
      },
      "source": [
        "# Data cleanse"
      ]
    },
    {
      "cell_type": "code",
      "metadata": {
        "colab": {
          "resources": {
            "http://localhost:8080/nbextensions/google.colab/files.js": {
              "data": "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",
              "ok": true,
              "headers": [
                [
                  "content-type",
                  "application/javascript"
                ]
              ],
              "status": 200,
              "status_text": ""
            }
          },
          "base_uri": "https://localhost:8080/",
          "height": 110
        },
        "id": "g_CyLeiZjQri",
        "outputId": "95c3d0a0-9fe7-43f5-ed3f-88d1cfd8a530"
      },
      "source": [
        "# import files\n",
        "from google.colab import files\n",
        "uploaded = files.upload()"
      ],
      "execution_count": 2,
      "outputs": [
        {
          "output_type": "display_data",
          "data": {
            "text/html": [
              "\n",
              "     <input type=\"file\" id=\"files-580bd4f5-025b-44ee-86d6-7d38870b12bc\" name=\"files[]\" multiple disabled\n",
              "        style=\"border:none\" />\n",
              "     <output id=\"result-580bd4f5-025b-44ee-86d6-7d38870b12bc\">\n",
              "      Upload widget is only available when the cell has been executed in the\n",
              "      current browser session. Please rerun this cell to enable.\n",
              "      </output>\n",
              "      <script src=\"/nbextensions/google.colab/files.js\"></script> "
            ],
            "text/plain": [
              "<IPython.core.display.HTML object>"
            ]
          },
          "metadata": {}
        },
        {
          "output_type": "stream",
          "name": "stdout",
          "text": [
            "Saving hist.csv to hist.csv\n",
            "Saving sas.csv to sas.csv\n"
          ]
        }
      ]
    },
    {
      "cell_type": "code",
      "metadata": {
        "colab": {
          "base_uri": "https://localhost:8080/"
        },
        "id": "8DJc3G3-oAFt",
        "outputId": "43f254dd-e448-48a6-b809-535390ca39ee"
      },
      "source": [
        "for fn in uploaded.keys():\n",
        "  print('User uploaded file \"{name}\" with length {length} bytes'.format(\n",
        "      name=fn, length=len(uploaded[fn])))"
      ],
      "execution_count": 3,
      "outputs": [
        {
          "output_type": "stream",
          "name": "stdout",
          "text": [
            "User uploaded file \"hist.csv\" with length 4583277 bytes\n",
            "User uploaded file \"sas.csv\" with length 20288888 bytes\n"
          ]
        }
      ]
    },
    {
      "cell_type": "code",
      "metadata": {
        "id": "OIzcsu-JoD5m"
      },
      "source": [
        "# read the csv files\n",
        "import pandas as pd\n",
        "hist_data = pd.read_csv('hist.csv')\n",
        "scal_data = pd.read_csv('sas.csv')"
      ],
      "execution_count": 4,
      "outputs": []
    },
    {
      "cell_type": "code",
      "metadata": {
        "colab": {
          "base_uri": "https://localhost:8080/",
          "height": 255
        },
        "id": "8_Q5ayAnofCB",
        "outputId": "56f805ea-1c0a-44e2-da31-22e1d15b6b6f"
      },
      "source": [
        "hist_data[:5]"
      ],
      "execution_count": 9,
      "outputs": [
        {
          "output_type": "execute_result",
          "data": {
            "text/html": [
              "<div>\n",
              "<style scoped>\n",
              "    .dataframe tbody tr th:only-of-type {\n",
              "        vertical-align: middle;\n",
              "    }\n",
              "\n",
              "    .dataframe tbody tr th {\n",
              "        vertical-align: top;\n",
              "    }\n",
              "\n",
              "    .dataframe thead th {\n",
              "        text-align: right;\n",
              "    }\n",
              "</style>\n",
              "<table border=\"1\" class=\"dataframe\">\n",
              "  <thead>\n",
              "    <tr style=\"text-align: right;\">\n",
              "      <th></th>\n",
              "      <th>name</th>\n",
              "      <th>PGA</th>\n",
              "      <th>ASQ</th>\n",
              "      <th>ARS</th>\n",
              "      <th>Ia</th>\n",
              "      <th>Arms</th>\n",
              "      <th>Ic</th>\n",
              "      <th>EPA</th>\n",
              "      <th>SaTf1</th>\n",
              "      <th>CSA</th>\n",
              "      <th>ASI</th>\n",
              "      <th>CAV</th>\n",
              "      <th>PGV</th>\n",
              "      <th>VSQ</th>\n",
              "      <th>VRS</th>\n",
              "      <th>Vrms</th>\n",
              "      <th>Ih</th>\n",
              "      <th>CAD</th>\n",
              "      <th>SvTf1</th>\n",
              "      <th>VC1</th>\n",
              "      <th>VC2</th>\n",
              "      <th>PGD</th>\n",
              "      <th>DSQ</th>\n",
              "      <th>DRS</th>\n",
              "      <th>Drms</th>\n",
              "      <th>CAI</th>\n",
              "      <th>DC</th>\n",
              "      <th>T1</th>\n",
              "      <th>T2</th>\n",
              "      <th>T3</th>\n",
              "      <th>T4</th>\n",
              "      <th>RVA</th>\n",
              "      <th>RDV</th>\n",
              "      <th>SdTf1</th>\n",
              "      <th>SaTf2</th>\n",
              "      <th>SvTf2</th>\n",
              "      <th>SdTf2</th>\n",
              "      <th>SaTf3</th>\n",
              "      <th>SvTf3</th>\n",
              "      <th>SdTf3</th>\n",
              "      <th>...</th>\n",
              "      <th>Col132sec1SStrainTop</th>\n",
              "      <th>Col132sec5SStrainBot</th>\n",
              "      <th>Col132sec5SStrainTop</th>\n",
              "      <th>Col133sec1SStrainBot</th>\n",
              "      <th>Col133sec1SStrainTop</th>\n",
              "      <th>Col133sec5SStrainBot</th>\n",
              "      <th>Col133sec5SStrainTop</th>\n",
              "      <th>Col134sec1SStrainBot</th>\n",
              "      <th>Col134sec1SStrainTop</th>\n",
              "      <th>Col134sec5SStrainBot</th>\n",
              "      <th>Col134sec5SStrainTop</th>\n",
              "      <th>Col135sec1SStrainBot</th>\n",
              "      <th>Col135sec1SStrainTop</th>\n",
              "      <th>Col135sec5SStrainBot</th>\n",
              "      <th>Col135sec5SStrainTop</th>\n",
              "      <th>Col141sec1SStrainBot</th>\n",
              "      <th>Col141sec1SStrainTop</th>\n",
              "      <th>Col141sec5SStrainBot</th>\n",
              "      <th>Col141sec5SStrainTop</th>\n",
              "      <th>Col142sec1SStrainBot</th>\n",
              "      <th>Col142sec1SStrainTop</th>\n",
              "      <th>Col142sec5SStrainBot</th>\n",
              "      <th>Col142sec5SStrainTop</th>\n",
              "      <th>Col143sec1SStrainBot</th>\n",
              "      <th>Col143sec1SStrainTop</th>\n",
              "      <th>Col143sec5SStrainBot</th>\n",
              "      <th>Col143sec5SStrainTop</th>\n",
              "      <th>Col144sec1SStrainBot</th>\n",
              "      <th>Col144sec1SStrainTop</th>\n",
              "      <th>Col144sec5SStrainBot</th>\n",
              "      <th>Col144sec5SStrainTop</th>\n",
              "      <th>Col145sec1SStrainBot</th>\n",
              "      <th>Col145sec1SStrainTop</th>\n",
              "      <th>Col145sec5SStrainBot</th>\n",
              "      <th>Col145sec5SStrainTop</th>\n",
              "      <th>drift01</th>\n",
              "      <th>drift12</th>\n",
              "      <th>drift23</th>\n",
              "      <th>drift34</th>\n",
              "      <th>midr</th>\n",
              "    </tr>\n",
              "  </thead>\n",
              "  <tbody>\n",
              "    <tr>\n",
              "      <th>0</th>\n",
              "      <td>RSN1000_NORTHR_PIC180</td>\n",
              "      <td>1.827211</td>\n",
              "      <td>1.638467</td>\n",
              "      <td>1.280026</td>\n",
              "      <td>0.262355</td>\n",
              "      <td>0.202415</td>\n",
              "      <td>0.348803</td>\n",
              "      <td>1.416011</td>\n",
              "      <td>3.027794</td>\n",
              "      <td>1.607480</td>\n",
              "      <td>1.113679</td>\n",
              "      <td>4.533546</td>\n",
              "      <td>0.142719</td>\n",
              "      <td>0.023363</td>\n",
              "      <td>0.152849</td>\n",
              "      <td>0.024171</td>\n",
              "      <td>0.465183</td>\n",
              "      <td>0.634740</td>\n",
              "      <td>0.348154</td>\n",
              "      <td>0.279311</td>\n",
              "      <td>0.668545</td>\n",
              "      <td>0.023963</td>\n",
              "      <td>0.002253</td>\n",
              "      <td>0.047470</td>\n",
              "      <td>0.007507</td>\n",
              "      <td>0.224549</td>\n",
              "      <td>0.058662</td>\n",
              "      <td>7.41</td>\n",
              "      <td>14.670</td>\n",
              "      <td>23.20</td>\n",
              "      <td>9.35</td>\n",
              "      <td>0.078107</td>\n",
              "      <td>0.167907</td>\n",
              "      <td>0.040033</td>\n",
              "      <td>2.233328</td>\n",
              "      <td>0.083276</td>\n",
              "      <td>0.003105</td>\n",
              "      <td>3.105322</td>\n",
              "      <td>0.054655</td>\n",
              "      <td>0.000962</td>\n",
              "      <td>...</td>\n",
              "      <td>0.000894</td>\n",
              "      <td>0.000731</td>\n",
              "      <td>0.000634</td>\n",
              "      <td>0.000696</td>\n",
              "      <td>0.000824</td>\n",
              "      <td>0.000652</td>\n",
              "      <td>0.000708</td>\n",
              "      <td>0.000629</td>\n",
              "      <td>0.000790</td>\n",
              "      <td>0.000657</td>\n",
              "      <td>0.000805</td>\n",
              "      <td>0.000756</td>\n",
              "      <td>0.000639</td>\n",
              "      <td>0.001316</td>\n",
              "      <td>0.001022</td>\n",
              "      <td>0.000441</td>\n",
              "      <td>0.000489</td>\n",
              "      <td>0.001437</td>\n",
              "      <td>0.006247</td>\n",
              "      <td>0.000250</td>\n",
              "      <td>0.000213</td>\n",
              "      <td>0.000472</td>\n",
              "      <td>0.000423</td>\n",
              "      <td>0.000211</td>\n",
              "      <td>0.000259</td>\n",
              "      <td>0.000563</td>\n",
              "      <td>0.000524</td>\n",
              "      <td>0.000172</td>\n",
              "      <td>0.000301</td>\n",
              "      <td>0.000560</td>\n",
              "      <td>0.000516</td>\n",
              "      <td>0.000467</td>\n",
              "      <td>0.000411</td>\n",
              "      <td>0.001418</td>\n",
              "      <td>0.000843</td>\n",
              "      <td>0.000257</td>\n",
              "      <td>0.000152</td>\n",
              "      <td>-0.000698</td>\n",
              "      <td>-0.000346</td>\n",
              "      <td>0.000698</td>\n",
              "    </tr>\n",
              "    <tr>\n",
              "      <th>1</th>\n",
              "      <td>RSN1007_NORTHR_UNI095</td>\n",
              "      <td>2.097967</td>\n",
              "      <td>3.360271</td>\n",
              "      <td>1.833104</td>\n",
              "      <td>0.538053</td>\n",
              "      <td>0.289875</td>\n",
              "      <td>0.546242</td>\n",
              "      <td>1.360357</td>\n",
              "      <td>1.603724</td>\n",
              "      <td>1.028202</td>\n",
              "      <td>1.774131</td>\n",
              "      <td>6.332348</td>\n",
              "      <td>0.107912</td>\n",
              "      <td>0.017312</td>\n",
              "      <td>0.131575</td>\n",
              "      <td>0.020806</td>\n",
              "      <td>0.362586</td>\n",
              "      <td>0.533410</td>\n",
              "      <td>0.184406</td>\n",
              "      <td>0.201884</td>\n",
              "      <td>0.522506</td>\n",
              "      <td>0.023500</td>\n",
              "      <td>0.002482</td>\n",
              "      <td>0.049822</td>\n",
              "      <td>0.007879</td>\n",
              "      <td>0.209430</td>\n",
              "      <td>0.054173</td>\n",
              "      <td>6.64</td>\n",
              "      <td>12.250</td>\n",
              "      <td>25.29</td>\n",
              "      <td>11.86</td>\n",
              "      <td>0.051436</td>\n",
              "      <td>0.217773</td>\n",
              "      <td>0.021204</td>\n",
              "      <td>6.080248</td>\n",
              "      <td>0.226721</td>\n",
              "      <td>0.008454</td>\n",
              "      <td>4.478751</td>\n",
              "      <td>0.078827</td>\n",
              "      <td>0.001387</td>\n",
              "      <td>...</td>\n",
              "      <td>0.000590</td>\n",
              "      <td>0.000479</td>\n",
              "      <td>0.000466</td>\n",
              "      <td>0.000629</td>\n",
              "      <td>0.000567</td>\n",
              "      <td>0.000454</td>\n",
              "      <td>0.000488</td>\n",
              "      <td>0.000660</td>\n",
              "      <td>0.000557</td>\n",
              "      <td>0.000438</td>\n",
              "      <td>0.000519</td>\n",
              "      <td>0.000869</td>\n",
              "      <td>0.000906</td>\n",
              "      <td>0.000620</td>\n",
              "      <td>0.000728</td>\n",
              "      <td>0.000687</td>\n",
              "      <td>0.000602</td>\n",
              "      <td>0.000889</td>\n",
              "      <td>0.001582</td>\n",
              "      <td>0.000341</td>\n",
              "      <td>0.000303</td>\n",
              "      <td>0.000347</td>\n",
              "      <td>0.000463</td>\n",
              "      <td>0.000315</td>\n",
              "      <td>0.000329</td>\n",
              "      <td>0.000372</td>\n",
              "      <td>0.000432</td>\n",
              "      <td>0.000284</td>\n",
              "      <td>0.000360</td>\n",
              "      <td>0.000399</td>\n",
              "      <td>0.000378</td>\n",
              "      <td>0.000609</td>\n",
              "      <td>0.000692</td>\n",
              "      <td>0.001834</td>\n",
              "      <td>0.000960</td>\n",
              "      <td>-0.000641</td>\n",
              "      <td>-0.001017</td>\n",
              "      <td>-0.001224</td>\n",
              "      <td>-0.000441</td>\n",
              "      <td>0.001224</td>\n",
              "    </tr>\n",
              "    <tr>\n",
              "      <th>2</th>\n",
              "      <td>RSN1115_KOBE_SKI000</td>\n",
              "      <td>1.493769</td>\n",
              "      <td>3.884159</td>\n",
              "      <td>1.970827</td>\n",
              "      <td>0.621939</td>\n",
              "      <td>0.140043</td>\n",
              "      <td>0.406080</td>\n",
              "      <td>1.917325</td>\n",
              "      <td>2.347829</td>\n",
              "      <td>1.798432</td>\n",
              "      <td>1.591517</td>\n",
              "      <td>13.132979</td>\n",
              "      <td>0.158245</td>\n",
              "      <td>0.263976</td>\n",
              "      <td>0.513786</td>\n",
              "      <td>0.036509</td>\n",
              "      <td>0.734004</td>\n",
              "      <td>4.889901</td>\n",
              "      <td>0.269967</td>\n",
              "      <td>0.440495</td>\n",
              "      <td>1.145603</td>\n",
              "      <td>0.103713</td>\n",
              "      <td>0.157905</td>\n",
              "      <td>0.397373</td>\n",
              "      <td>0.028236</td>\n",
              "      <td>4.466482</td>\n",
              "      <td>0.406114</td>\n",
              "      <td>10.57</td>\n",
              "      <td>60.040</td>\n",
              "      <td>62.09</td>\n",
              "      <td>14.92</td>\n",
              "      <td>0.105937</td>\n",
              "      <td>0.655396</td>\n",
              "      <td>0.031042</td>\n",
              "      <td>5.202475</td>\n",
              "      <td>0.193990</td>\n",
              "      <td>0.007234</td>\n",
              "      <td>3.397511</td>\n",
              "      <td>0.059797</td>\n",
              "      <td>0.001052</td>\n",
              "      <td>...</td>\n",
              "      <td>0.000626</td>\n",
              "      <td>0.000591</td>\n",
              "      <td>0.000491</td>\n",
              "      <td>0.000603</td>\n",
              "      <td>0.000599</td>\n",
              "      <td>0.000567</td>\n",
              "      <td>0.000513</td>\n",
              "      <td>0.000636</td>\n",
              "      <td>0.000588</td>\n",
              "      <td>0.000556</td>\n",
              "      <td>0.000542</td>\n",
              "      <td>0.000804</td>\n",
              "      <td>0.000755</td>\n",
              "      <td>0.000672</td>\n",
              "      <td>0.000760</td>\n",
              "      <td>0.000663</td>\n",
              "      <td>0.000596</td>\n",
              "      <td>0.000953</td>\n",
              "      <td>0.001809</td>\n",
              "      <td>0.000326</td>\n",
              "      <td>0.000270</td>\n",
              "      <td>0.000373</td>\n",
              "      <td>0.000444</td>\n",
              "      <td>0.000290</td>\n",
              "      <td>0.000303</td>\n",
              "      <td>0.000427</td>\n",
              "      <td>0.000410</td>\n",
              "      <td>0.000259</td>\n",
              "      <td>0.000329</td>\n",
              "      <td>0.000459</td>\n",
              "      <td>0.000354</td>\n",
              "      <td>0.000562</td>\n",
              "      <td>0.000596</td>\n",
              "      <td>0.001702</td>\n",
              "      <td>0.000923</td>\n",
              "      <td>0.000141</td>\n",
              "      <td>0.000610</td>\n",
              "      <td>0.000979</td>\n",
              "      <td>0.001143</td>\n",
              "      <td>0.001143</td>\n",
              "    </tr>\n",
              "    <tr>\n",
              "      <th>3</th>\n",
              "      <td>RSN4177_NIIGATA_GNM009EW</td>\n",
              "      <td>1.532518</td>\n",
              "      <td>0.747289</td>\n",
              "      <td>0.864459</td>\n",
              "      <td>0.119657</td>\n",
              "      <td>0.078924</td>\n",
              "      <td>0.073337</td>\n",
              "      <td>0.355474</td>\n",
              "      <td>0.334153</td>\n",
              "      <td>0.115920</td>\n",
              "      <td>0.622636</td>\n",
              "      <td>3.259330</td>\n",
              "      <td>0.028878</td>\n",
              "      <td>0.000970</td>\n",
              "      <td>0.031146</td>\n",
              "      <td>0.002844</td>\n",
              "      <td>0.062865</td>\n",
              "      <td>0.172391</td>\n",
              "      <td>0.038423</td>\n",
              "      <td>0.052520</td>\n",
              "      <td>0.208955</td>\n",
              "      <td>0.015163</td>\n",
              "      <td>0.000776</td>\n",
              "      <td>0.027865</td>\n",
              "      <td>0.002544</td>\n",
              "      <td>0.157375</td>\n",
              "      <td>0.033660</td>\n",
              "      <td>4.12</td>\n",
              "      <td>10.940</td>\n",
              "      <td>11.69</td>\n",
              "      <td>2.79</td>\n",
              "      <td>0.018844</td>\n",
              "      <td>0.525061</td>\n",
              "      <td>0.004418</td>\n",
              "      <td>1.313138</td>\n",
              "      <td>0.048964</td>\n",
              "      <td>0.001826</td>\n",
              "      <td>5.166206</td>\n",
              "      <td>0.090927</td>\n",
              "      <td>0.001600</td>\n",
              "      <td>...</td>\n",
              "      <td>0.000285</td>\n",
              "      <td>0.000264</td>\n",
              "      <td>0.000212</td>\n",
              "      <td>0.000239</td>\n",
              "      <td>0.000273</td>\n",
              "      <td>0.000248</td>\n",
              "      <td>0.000230</td>\n",
              "      <td>0.000258</td>\n",
              "      <td>0.000272</td>\n",
              "      <td>0.000242</td>\n",
              "      <td>0.000255</td>\n",
              "      <td>0.000418</td>\n",
              "      <td>0.000195</td>\n",
              "      <td>0.000203</td>\n",
              "      <td>0.000420</td>\n",
              "      <td>0.000330</td>\n",
              "      <td>0.000408</td>\n",
              "      <td>0.000588</td>\n",
              "      <td>0.000694</td>\n",
              "      <td>0.000181</td>\n",
              "      <td>0.000141</td>\n",
              "      <td>0.000130</td>\n",
              "      <td>0.000170</td>\n",
              "      <td>0.000159</td>\n",
              "      <td>0.000165</td>\n",
              "      <td>0.000158</td>\n",
              "      <td>0.000142</td>\n",
              "      <td>0.000145</td>\n",
              "      <td>0.000196</td>\n",
              "      <td>0.000187</td>\n",
              "      <td>0.000114</td>\n",
              "      <td>0.000417</td>\n",
              "      <td>0.000345</td>\n",
              "      <td>0.000630</td>\n",
              "      <td>0.000560</td>\n",
              "      <td>0.000032</td>\n",
              "      <td>0.000229</td>\n",
              "      <td>0.000252</td>\n",
              "      <td>0.000227</td>\n",
              "      <td>0.000252</td>\n",
              "    </tr>\n",
              "    <tr>\n",
              "      <th>4</th>\n",
              "      <td>RSN418_COALINGA_F-CHP000</td>\n",
              "      <td>4.720964</td>\n",
              "      <td>3.599469</td>\n",
              "      <td>1.897227</td>\n",
              "      <td>0.576354</td>\n",
              "      <td>0.244941</td>\n",
              "      <td>0.204112</td>\n",
              "      <td>1.956986</td>\n",
              "      <td>1.607552</td>\n",
              "      <td>0.905757</td>\n",
              "      <td>3.351562</td>\n",
              "      <td>3.449444</td>\n",
              "      <td>0.146641</td>\n",
              "      <td>0.009532</td>\n",
              "      <td>0.097632</td>\n",
              "      <td>0.012605</td>\n",
              "      <td>0.387346</td>\n",
              "      <td>0.315861</td>\n",
              "      <td>0.182110</td>\n",
              "      <td>0.190280</td>\n",
              "      <td>0.393569</td>\n",
              "      <td>0.011195</td>\n",
              "      <td>0.000281</td>\n",
              "      <td>0.016750</td>\n",
              "      <td>0.002163</td>\n",
              "      <td>0.084161</td>\n",
              "      <td>0.015845</td>\n",
              "      <td>0.40</td>\n",
              "      <td>2.835</td>\n",
              "      <td>10.81</td>\n",
              "      <td>1.20</td>\n",
              "      <td>0.031062</td>\n",
              "      <td>0.076345</td>\n",
              "      <td>0.020630</td>\n",
              "      <td>15.462321</td>\n",
              "      <td>0.575735</td>\n",
              "      <td>0.021437</td>\n",
              "      <td>9.671921</td>\n",
              "      <td>0.171519</td>\n",
              "      <td>0.003042</td>\n",
              "      <td>...</td>\n",
              "      <td>0.000930</td>\n",
              "      <td>0.000637</td>\n",
              "      <td>0.000489</td>\n",
              "      <td>0.000766</td>\n",
              "      <td>0.000848</td>\n",
              "      <td>0.000594</td>\n",
              "      <td>0.000519</td>\n",
              "      <td>0.000845</td>\n",
              "      <td>0.000760</td>\n",
              "      <td>0.000559</td>\n",
              "      <td>0.000561</td>\n",
              "      <td>0.001133</td>\n",
              "      <td>0.001644</td>\n",
              "      <td>0.000728</td>\n",
              "      <td>0.000784</td>\n",
              "      <td>0.000947</td>\n",
              "      <td>0.000723</td>\n",
              "      <td>0.001711</td>\n",
              "      <td>0.014010</td>\n",
              "      <td>0.000620</td>\n",
              "      <td>0.000618</td>\n",
              "      <td>0.000670</td>\n",
              "      <td>0.000745</td>\n",
              "      <td>0.000884</td>\n",
              "      <td>0.000725</td>\n",
              "      <td>0.000766</td>\n",
              "      <td>0.001005</td>\n",
              "      <td>0.001114</td>\n",
              "      <td>0.000810</td>\n",
              "      <td>0.000722</td>\n",
              "      <td>0.000895</td>\n",
              "      <td>0.000754</td>\n",
              "      <td>0.001079</td>\n",
              "      <td>0.004638</td>\n",
              "      <td>0.001296</td>\n",
              "      <td>-0.001300</td>\n",
              "      <td>-0.001077</td>\n",
              "      <td>-0.001133</td>\n",
              "      <td>-0.000360</td>\n",
              "      <td>0.001300</td>\n",
              "    </tr>\n",
              "  </tbody>\n",
              "</table>\n",
              "<p>5 rows × 202 columns</p>\n",
              "</div>"
            ],
            "text/plain": [
              "                       name       PGA       ASQ  ...   drift23   drift34      midr\n",
              "0     RSN1000_NORTHR_PIC180  1.827211  1.638467  ... -0.000698 -0.000346  0.000698\n",
              "1     RSN1007_NORTHR_UNI095  2.097967  3.360271  ... -0.001224 -0.000441  0.001224\n",
              "2       RSN1115_KOBE_SKI000  1.493769  3.884159  ...  0.000979  0.001143  0.001143\n",
              "3  RSN4177_NIIGATA_GNM009EW  1.532518  0.747289  ...  0.000252  0.000227  0.000252\n",
              "4  RSN418_COALINGA_F-CHP000  4.720964  3.599469  ... -0.001133 -0.000360  0.001300\n",
              "\n",
              "[5 rows x 202 columns]"
            ]
          },
          "metadata": {},
          "execution_count": 9
        }
      ]
    },
    {
      "cell_type": "code",
      "metadata": {
        "colab": {
          "base_uri": "https://localhost:8080/",
          "height": 272
        },
        "id": "P8SDZvzjom_Z",
        "outputId": "14f58ec1-5d63-472b-a660-efbacde27b8e"
      },
      "source": [
        "scal_data[:5]"
      ],
      "execution_count": 5,
      "outputs": [
        {
          "output_type": "execute_result",
          "data": {
            "text/html": [
              "<div>\n",
              "<style scoped>\n",
              "    .dataframe tbody tr th:only-of-type {\n",
              "        vertical-align: middle;\n",
              "    }\n",
              "\n",
              "    .dataframe tbody tr th {\n",
              "        vertical-align: top;\n",
              "    }\n",
              "\n",
              "    .dataframe thead th {\n",
              "        text-align: right;\n",
              "    }\n",
              "</style>\n",
              "<table border=\"1\" class=\"dataframe\">\n",
              "  <thead>\n",
              "    <tr style=\"text-align: right;\">\n",
              "      <th></th>\n",
              "      <th>name</th>\n",
              "      <th>PGA</th>\n",
              "      <th>ASQ</th>\n",
              "      <th>ARS</th>\n",
              "      <th>Ia</th>\n",
              "      <th>Arms</th>\n",
              "      <th>Ic</th>\n",
              "      <th>EPA</th>\n",
              "      <th>SaTf1</th>\n",
              "      <th>CSA</th>\n",
              "      <th>ASI</th>\n",
              "      <th>CAV</th>\n",
              "      <th>PGV</th>\n",
              "      <th>VSQ</th>\n",
              "      <th>VRS</th>\n",
              "      <th>Vrms</th>\n",
              "      <th>Ih</th>\n",
              "      <th>CAD</th>\n",
              "      <th>SvTf1</th>\n",
              "      <th>VC1</th>\n",
              "      <th>VC2</th>\n",
              "      <th>PGD</th>\n",
              "      <th>DSQ</th>\n",
              "      <th>DRS</th>\n",
              "      <th>Drms</th>\n",
              "      <th>CAI</th>\n",
              "      <th>DC</th>\n",
              "      <th>T1</th>\n",
              "      <th>T2</th>\n",
              "      <th>T3</th>\n",
              "      <th>T4</th>\n",
              "      <th>RVA</th>\n",
              "      <th>RDV</th>\n",
              "      <th>SdTf1</th>\n",
              "      <th>SaTf2</th>\n",
              "      <th>SvTf2</th>\n",
              "      <th>SdTf2</th>\n",
              "      <th>SaTf3</th>\n",
              "      <th>SvTf3</th>\n",
              "      <th>SdTf3</th>\n",
              "      <th>...</th>\n",
              "      <th>Col132sec1SStrainBot</th>\n",
              "      <th>Col132sec1SStrainTop</th>\n",
              "      <th>Col132sec5SStrainBot</th>\n",
              "      <th>Col132sec5SStrainTop</th>\n",
              "      <th>Col133sec1SStrainBot</th>\n",
              "      <th>Col133sec1SStrainTop</th>\n",
              "      <th>Col133sec5SStrainBot</th>\n",
              "      <th>Col133sec5SStrainTop</th>\n",
              "      <th>Col134sec1SStrainBot</th>\n",
              "      <th>Col134sec1SStrainTop</th>\n",
              "      <th>Col134sec5SStrainBot</th>\n",
              "      <th>Col134sec5SStrainTop</th>\n",
              "      <th>Col135sec1SStrainBot</th>\n",
              "      <th>Col135sec1SStrainTop</th>\n",
              "      <th>Col135sec5SStrainBot</th>\n",
              "      <th>Col135sec5SStrainTop</th>\n",
              "      <th>Col141sec1SStrainBot</th>\n",
              "      <th>Col141sec1SStrainTop</th>\n",
              "      <th>Col141sec5SStrainBot</th>\n",
              "      <th>Col141sec5SStrainTop</th>\n",
              "      <th>Col142sec1SStrainBot</th>\n",
              "      <th>Col142sec1SStrainTop</th>\n",
              "      <th>Col142sec5SStrainBot</th>\n",
              "      <th>Col142sec5SStrainTop</th>\n",
              "      <th>Col143sec1SStrainBot</th>\n",
              "      <th>Col143sec1SStrainTop</th>\n",
              "      <th>Col143sec5SStrainBot</th>\n",
              "      <th>Col143sec5SStrainTop</th>\n",
              "      <th>Col144sec1SStrainBot</th>\n",
              "      <th>Col144sec1SStrainTop</th>\n",
              "      <th>Col144sec5SStrainBot</th>\n",
              "      <th>Col144sec5SStrainTop</th>\n",
              "      <th>Col145sec1SStrainBot</th>\n",
              "      <th>Col145sec1SStrainTop</th>\n",
              "      <th>Col145sec5SStrainBot</th>\n",
              "      <th>Col145sec5SStrainTop</th>\n",
              "      <th>drift01</th>\n",
              "      <th>drift12</th>\n",
              "      <th>drift23</th>\n",
              "      <th>drift34</th>\n",
              "    </tr>\n",
              "  </thead>\n",
              "  <tbody>\n",
              "    <tr>\n",
              "      <th>0</th>\n",
              "      <td>RSN1001_NORTHR_GR2180.AT2_artif_00001</td>\n",
              "      <td>2.243645</td>\n",
              "      <td>4.482618</td>\n",
              "      <td>2.117219</td>\n",
              "      <td>0.717766</td>\n",
              "      <td>0.386679</td>\n",
              "      <td>0.888365</td>\n",
              "      <td>2.063823</td>\n",
              "      <td>4.435114</td>\n",
              "      <td>1.784252</td>\n",
              "      <td>2.314675</td>\n",
              "      <td>7.333104</td>\n",
              "      <td>0.241865</td>\n",
              "      <td>0.066121</td>\n",
              "      <td>0.257140</td>\n",
              "      <td>0.046963</td>\n",
              "      <td>0.551692</td>\n",
              "      <td>0.985289</td>\n",
              "      <td>0.509976</td>\n",
              "      <td>0.464897</td>\n",
              "      <td>0.927741</td>\n",
              "      <td>0.302672</td>\n",
              "      <td>0.547523</td>\n",
              "      <td>0.739948</td>\n",
              "      <td>0.135140</td>\n",
              "      <td>3.070392</td>\n",
              "      <td>0.723351</td>\n",
              "      <td>6.450</td>\n",
              "      <td>13.65</td>\n",
              "      <td>21.470</td>\n",
              "      <td>14.820</td>\n",
              "      <td>0.107800</td>\n",
              "      <td>1.251405</td>\n",
              "      <td>0.058640</td>\n",
              "      <td>6.798599</td>\n",
              "      <td>0.253507</td>\n",
              "      <td>0.009453</td>\n",
              "      <td>2.931239</td>\n",
              "      <td>0.051591</td>\n",
              "      <td>0.000908</td>\n",
              "      <td>...</td>\n",
              "      <td>0.001394</td>\n",
              "      <td>0.001116</td>\n",
              "      <td>0.000835</td>\n",
              "      <td>0.000717</td>\n",
              "      <td>0.001220</td>\n",
              "      <td>0.001043</td>\n",
              "      <td>0.000699</td>\n",
              "      <td>0.000629</td>\n",
              "      <td>0.001132</td>\n",
              "      <td>0.001154</td>\n",
              "      <td>0.000585</td>\n",
              "      <td>0.000768</td>\n",
              "      <td>0.001251</td>\n",
              "      <td>0.001950</td>\n",
              "      <td>0.001343</td>\n",
              "      <td>0.001052</td>\n",
              "      <td>0.000571</td>\n",
              "      <td>0.000557</td>\n",
              "      <td>0.001617</td>\n",
              "      <td>0.011205</td>\n",
              "      <td>0.000657</td>\n",
              "      <td>0.000716</td>\n",
              "      <td>0.000851</td>\n",
              "      <td>0.000705</td>\n",
              "      <td>0.000555</td>\n",
              "      <td>0.000501</td>\n",
              "      <td>0.000833</td>\n",
              "      <td>0.000768</td>\n",
              "      <td>0.000442</td>\n",
              "      <td>0.000475</td>\n",
              "      <td>0.000720</td>\n",
              "      <td>0.000773</td>\n",
              "      <td>0.000532</td>\n",
              "      <td>0.000524</td>\n",
              "      <td>0.011772</td>\n",
              "      <td>0.001645</td>\n",
              "      <td>0.000412</td>\n",
              "      <td>0.000646</td>\n",
              "      <td>-0.000227</td>\n",
              "      <td>0.000715</td>\n",
              "    </tr>\n",
              "    <tr>\n",
              "      <th>1</th>\n",
              "      <td>RSN1003_NORTHR_STN110.AT2_artif_00002</td>\n",
              "      <td>5.580517</td>\n",
              "      <td>9.792440</td>\n",
              "      <td>3.129287</td>\n",
              "      <td>1.567985</td>\n",
              "      <td>0.556852</td>\n",
              "      <td>1.316667</td>\n",
              "      <td>3.860884</td>\n",
              "      <td>6.990371</td>\n",
              "      <td>3.455374</td>\n",
              "      <td>4.375398</td>\n",
              "      <td>9.098355</td>\n",
              "      <td>0.395980</td>\n",
              "      <td>0.156910</td>\n",
              "      <td>0.396118</td>\n",
              "      <td>0.070489</td>\n",
              "      <td>1.087556</td>\n",
              "      <td>1.609650</td>\n",
              "      <td>0.803795</td>\n",
              "      <td>0.704867</td>\n",
              "      <td>1.163305</td>\n",
              "      <td>0.661747</td>\n",
              "      <td>3.876842</td>\n",
              "      <td>1.968970</td>\n",
              "      <td>0.350375</td>\n",
              "      <td>8.380598</td>\n",
              "      <td>1.427590</td>\n",
              "      <td>5.540</td>\n",
              "      <td>10.04</td>\n",
              "      <td>24.970</td>\n",
              "      <td>12.710</td>\n",
              "      <td>0.070958</td>\n",
              "      <td>1.671162</td>\n",
              "      <td>0.092425</td>\n",
              "      <td>8.877984</td>\n",
              "      <td>0.331043</td>\n",
              "      <td>0.012344</td>\n",
              "      <td>8.049076</td>\n",
              "      <td>0.141666</td>\n",
              "      <td>0.002493</td>\n",
              "      <td>...</td>\n",
              "      <td>0.001700</td>\n",
              "      <td>0.001229</td>\n",
              "      <td>0.001297</td>\n",
              "      <td>0.001580</td>\n",
              "      <td>0.001340</td>\n",
              "      <td>0.001152</td>\n",
              "      <td>0.001300</td>\n",
              "      <td>0.001361</td>\n",
              "      <td>0.001288</td>\n",
              "      <td>0.001077</td>\n",
              "      <td>0.001413</td>\n",
              "      <td>0.001207</td>\n",
              "      <td>0.001153</td>\n",
              "      <td>0.001679</td>\n",
              "      <td>0.002143</td>\n",
              "      <td>0.001295</td>\n",
              "      <td>0.000632</td>\n",
              "      <td>0.000604</td>\n",
              "      <td>0.002146</td>\n",
              "      <td>0.026506</td>\n",
              "      <td>0.000607</td>\n",
              "      <td>0.000604</td>\n",
              "      <td>0.001293</td>\n",
              "      <td>0.000915</td>\n",
              "      <td>0.000641</td>\n",
              "      <td>0.000623</td>\n",
              "      <td>0.001435</td>\n",
              "      <td>0.001196</td>\n",
              "      <td>0.000749</td>\n",
              "      <td>0.000673</td>\n",
              "      <td>0.001098</td>\n",
              "      <td>0.001157</td>\n",
              "      <td>0.000587</td>\n",
              "      <td>0.000551</td>\n",
              "      <td>0.024630</td>\n",
              "      <td>0.002069</td>\n",
              "      <td>-0.000459</td>\n",
              "      <td>-0.000834</td>\n",
              "      <td>-0.001197</td>\n",
              "      <td>0.000242</td>\n",
              "    </tr>\n",
              "    <tr>\n",
              "      <th>2</th>\n",
              "      <td>RSN1078_NORTHR_SSU000.AT2_artif_00004</td>\n",
              "      <td>2.341353</td>\n",
              "      <td>4.646160</td>\n",
              "      <td>2.155495</td>\n",
              "      <td>0.743952</td>\n",
              "      <td>0.284878</td>\n",
              "      <td>0.415297</td>\n",
              "      <td>2.201213</td>\n",
              "      <td>3.284757</td>\n",
              "      <td>1.951420</td>\n",
              "      <td>2.241120</td>\n",
              "      <td>6.615651</td>\n",
              "      <td>0.263885</td>\n",
              "      <td>0.050061</td>\n",
              "      <td>0.223744</td>\n",
              "      <td>0.029571</td>\n",
              "      <td>0.720042</td>\n",
              "      <td>0.783764</td>\n",
              "      <td>0.372111</td>\n",
              "      <td>0.436113</td>\n",
              "      <td>0.803876</td>\n",
              "      <td>0.176653</td>\n",
              "      <td>0.148093</td>\n",
              "      <td>0.384828</td>\n",
              "      <td>0.050860</td>\n",
              "      <td>1.901663</td>\n",
              "      <td>0.345171</td>\n",
              "      <td>4.410</td>\n",
              "      <td>7.46</td>\n",
              "      <td>17.195</td>\n",
              "      <td>10.395</td>\n",
              "      <td>0.112706</td>\n",
              "      <td>0.669434</td>\n",
              "      <td>0.042154</td>\n",
              "      <td>6.237982</td>\n",
              "      <td>0.232269</td>\n",
              "      <td>0.008648</td>\n",
              "      <td>5.113931</td>\n",
              "      <td>0.090689</td>\n",
              "      <td>0.001608</td>\n",
              "      <td>...</td>\n",
              "      <td>0.001403</td>\n",
              "      <td>0.001117</td>\n",
              "      <td>0.000715</td>\n",
              "      <td>0.000622</td>\n",
              "      <td>0.001181</td>\n",
              "      <td>0.001029</td>\n",
              "      <td>0.000592</td>\n",
              "      <td>0.000743</td>\n",
              "      <td>0.000979</td>\n",
              "      <td>0.000947</td>\n",
              "      <td>0.000809</td>\n",
              "      <td>0.000876</td>\n",
              "      <td>0.001166</td>\n",
              "      <td>0.001679</td>\n",
              "      <td>0.001556</td>\n",
              "      <td>0.001119</td>\n",
              "      <td>0.000587</td>\n",
              "      <td>0.000562</td>\n",
              "      <td>0.001516</td>\n",
              "      <td>0.007875</td>\n",
              "      <td>0.000399</td>\n",
              "      <td>0.000288</td>\n",
              "      <td>0.000677</td>\n",
              "      <td>0.000633</td>\n",
              "      <td>0.000302</td>\n",
              "      <td>0.000391</td>\n",
              "      <td>0.000703</td>\n",
              "      <td>0.000663</td>\n",
              "      <td>0.000404</td>\n",
              "      <td>0.000500</td>\n",
              "      <td>0.000631</td>\n",
              "      <td>0.000671</td>\n",
              "      <td>0.000545</td>\n",
              "      <td>0.000548</td>\n",
              "      <td>0.002290</td>\n",
              "      <td>0.001080</td>\n",
              "      <td>-0.001174</td>\n",
              "      <td>-0.001936</td>\n",
              "      <td>-0.003151</td>\n",
              "      <td>-0.001034</td>\n",
              "    </tr>\n",
              "    <tr>\n",
              "      <th>3</th>\n",
              "      <td>RSN4352_UBMARCHE.P_A-NCR270.AT2_artif_00004</td>\n",
              "      <td>5.067355</td>\n",
              "      <td>13.883442</td>\n",
              "      <td>3.726049</td>\n",
              "      <td>2.223044</td>\n",
              "      <td>0.833274</td>\n",
              "      <td>1.536427</td>\n",
              "      <td>3.951902</td>\n",
              "      <td>6.523533</td>\n",
              "      <td>2.517991</td>\n",
              "      <td>5.653394</td>\n",
              "      <td>8.598938</td>\n",
              "      <td>0.347486</td>\n",
              "      <td>0.079180</td>\n",
              "      <td>0.281390</td>\n",
              "      <td>0.062929</td>\n",
              "      <td>0.916035</td>\n",
              "      <td>0.700235</td>\n",
              "      <td>0.739013</td>\n",
              "      <td>0.493859</td>\n",
              "      <td>0.789790</td>\n",
              "      <td>0.151829</td>\n",
              "      <td>0.049340</td>\n",
              "      <td>0.222126</td>\n",
              "      <td>0.049675</td>\n",
              "      <td>0.684292</td>\n",
              "      <td>0.242610</td>\n",
              "      <td>2.545</td>\n",
              "      <td>4.08</td>\n",
              "      <td>17.250</td>\n",
              "      <td>8.990</td>\n",
              "      <td>0.068573</td>\n",
              "      <td>0.436936</td>\n",
              "      <td>0.083718</td>\n",
              "      <td>13.023253</td>\n",
              "      <td>0.484917</td>\n",
              "      <td>0.018056</td>\n",
              "      <td>9.465352</td>\n",
              "      <td>0.167856</td>\n",
              "      <td>0.002977</td>\n",
              "      <td>...</td>\n",
              "      <td>0.020213</td>\n",
              "      <td>0.018312</td>\n",
              "      <td>0.001446</td>\n",
              "      <td>0.001911</td>\n",
              "      <td>0.016958</td>\n",
              "      <td>0.022179</td>\n",
              "      <td>0.001654</td>\n",
              "      <td>0.001887</td>\n",
              "      <td>0.013340</td>\n",
              "      <td>0.027459</td>\n",
              "      <td>0.002082</td>\n",
              "      <td>0.002020</td>\n",
              "      <td>0.006341</td>\n",
              "      <td>0.028787</td>\n",
              "      <td>0.005238</td>\n",
              "      <td>0.001712</td>\n",
              "      <td>0.000784</td>\n",
              "      <td>0.001421</td>\n",
              "      <td>0.003959</td>\n",
              "      <td>0.044231</td>\n",
              "      <td>0.000997</td>\n",
              "      <td>0.000770</td>\n",
              "      <td>0.001800</td>\n",
              "      <td>0.001621</td>\n",
              "      <td>0.001036</td>\n",
              "      <td>0.000782</td>\n",
              "      <td>0.002120</td>\n",
              "      <td>0.001615</td>\n",
              "      <td>0.001331</td>\n",
              "      <td>0.000879</td>\n",
              "      <td>0.001998</td>\n",
              "      <td>0.001548</td>\n",
              "      <td>0.000954</td>\n",
              "      <td>0.000650</td>\n",
              "      <td>0.049141</td>\n",
              "      <td>0.004801</td>\n",
              "      <td>-0.003175</td>\n",
              "      <td>-0.005009</td>\n",
              "      <td>-0.009946</td>\n",
              "      <td>-0.005133</td>\n",
              "    </tr>\n",
              "    <tr>\n",
              "      <th>4</th>\n",
              "      <td>RSN4451_MONTENE.GRO_BSO000.AT2_artif_00001</td>\n",
              "      <td>2.876783</td>\n",
              "      <td>10.572084</td>\n",
              "      <td>3.251474</td>\n",
              "      <td>1.692823</td>\n",
              "      <td>0.470143</td>\n",
              "      <td>1.496125</td>\n",
              "      <td>4.419231</td>\n",
              "      <td>7.439244</td>\n",
              "      <td>5.369753</td>\n",
              "      <td>1.870517</td>\n",
              "      <td>14.063707</td>\n",
              "      <td>0.477212</td>\n",
              "      <td>0.721563</td>\n",
              "      <td>0.849448</td>\n",
              "      <td>0.122825</td>\n",
              "      <td>1.832847</td>\n",
              "      <td>4.103783</td>\n",
              "      <td>0.855409</td>\n",
              "      <td>1.028070</td>\n",
              "      <td>1.699115</td>\n",
              "      <td>0.902526</td>\n",
              "      <td>12.155782</td>\n",
              "      <td>3.486514</td>\n",
              "      <td>0.504129</td>\n",
              "      <td>19.924292</td>\n",
              "      <td>2.511162</td>\n",
              "      <td>9.200</td>\n",
              "      <td>21.54</td>\n",
              "      <td>39.220</td>\n",
              "      <td>26.160</td>\n",
              "      <td>0.165884</td>\n",
              "      <td>1.891246</td>\n",
              "      <td>0.098360</td>\n",
              "      <td>3.915807</td>\n",
              "      <td>0.146013</td>\n",
              "      <td>0.005445</td>\n",
              "      <td>3.961249</td>\n",
              "      <td>0.069719</td>\n",
              "      <td>0.001227</td>\n",
              "      <td>...</td>\n",
              "      <td>0.001280</td>\n",
              "      <td>0.001935</td>\n",
              "      <td>0.001375</td>\n",
              "      <td>0.001550</td>\n",
              "      <td>0.001314</td>\n",
              "      <td>0.001807</td>\n",
              "      <td>0.001701</td>\n",
              "      <td>0.001264</td>\n",
              "      <td>0.001420</td>\n",
              "      <td>0.001943</td>\n",
              "      <td>0.002146</td>\n",
              "      <td>0.001337</td>\n",
              "      <td>0.001315</td>\n",
              "      <td>0.002131</td>\n",
              "      <td>0.005733</td>\n",
              "      <td>0.001827</td>\n",
              "      <td>0.000415</td>\n",
              "      <td>0.000440</td>\n",
              "      <td>0.002006</td>\n",
              "      <td>0.023053</td>\n",
              "      <td>0.000436</td>\n",
              "      <td>0.000308</td>\n",
              "      <td>0.001425</td>\n",
              "      <td>0.000901</td>\n",
              "      <td>0.000333</td>\n",
              "      <td>0.000316</td>\n",
              "      <td>0.001313</td>\n",
              "      <td>0.000880</td>\n",
              "      <td>0.000265</td>\n",
              "      <td>0.000407</td>\n",
              "      <td>0.001247</td>\n",
              "      <td>0.000928</td>\n",
              "      <td>0.000494</td>\n",
              "      <td>0.000451</td>\n",
              "      <td>0.032371</td>\n",
              "      <td>0.002594</td>\n",
              "      <td>-0.003449</td>\n",
              "      <td>-0.005325</td>\n",
              "      <td>-0.005982</td>\n",
              "      <td>-0.002034</td>\n",
              "    </tr>\n",
              "  </tbody>\n",
              "</table>\n",
              "<p>5 rows × 201 columns</p>\n",
              "</div>"
            ],
            "text/plain": [
              "                                          name       PGA  ...   drift23   drift34\n",
              "0        RSN1001_NORTHR_GR2180.AT2_artif_00001  2.243645  ... -0.000227  0.000715\n",
              "1        RSN1003_NORTHR_STN110.AT2_artif_00002  5.580517  ... -0.001197  0.000242\n",
              "2        RSN1078_NORTHR_SSU000.AT2_artif_00004  2.341353  ... -0.003151 -0.001034\n",
              "3  RSN4352_UBMARCHE.P_A-NCR270.AT2_artif_00004  5.067355  ... -0.009946 -0.005133\n",
              "4   RSN4451_MONTENE.GRO_BSO000.AT2_artif_00001  2.876783  ... -0.005982 -0.002034\n",
              "\n",
              "[5 rows x 201 columns]"
            ]
          },
          "metadata": {},
          "execution_count": 5
        }
      ]
    },
    {
      "cell_type": "code",
      "metadata": {
        "id": "6QSYsF33zrj-"
      },
      "source": [
        "searchfor = ['_by6','_by7','_by8','_by9','_by10']\n",
        "new_scal_data = scal_data[~scal_data.name.str.contains('|'.join(searchfor))]"
      ],
      "execution_count": 5,
      "outputs": []
    },
    {
      "cell_type": "code",
      "metadata": {
        "colab": {
          "base_uri": "https://localhost:8080/"
        },
        "id": "fJXr1o8MyV6r",
        "outputId": "d0a77b80-1995-4573-818a-e27c0beb0b31"
      },
      "source": [
        "scal_data['name'].str.contains(\"_by\")\n"
      ],
      "execution_count": 21,
      "outputs": [
        {
          "output_type": "execute_result",
          "data": {
            "text/plain": [
              "0       False\n",
              "1       False\n",
              "2       False\n",
              "3       False\n",
              "4       False\n",
              "        ...  \n",
              "9093     True\n",
              "9094     True\n",
              "9095     True\n",
              "9096     True\n",
              "9097     True\n",
              "Name: name, Length: 9098, dtype: bool"
            ]
          },
          "metadata": {},
          "execution_count": 21
        }
      ]
    },
    {
      "cell_type": "code",
      "metadata": {
        "colab": {
          "base_uri": "https://localhost:8080/",
          "height": 130
        },
        "id": "UKrk3Ayx0ZXX",
        "outputId": "841ae902-91d8-434e-deb9-c65029b08671"
      },
      "source": [
        "new_scal_data.tail(1)"
      ],
      "execution_count": 11,
      "outputs": [
        {
          "output_type": "execute_result",
          "data": {
            "text/html": [
              "<div>\n",
              "<style scoped>\n",
              "    .dataframe tbody tr th:only-of-type {\n",
              "        vertical-align: middle;\n",
              "    }\n",
              "\n",
              "    .dataframe tbody tr th {\n",
              "        vertical-align: top;\n",
              "    }\n",
              "\n",
              "    .dataframe thead th {\n",
              "        text-align: right;\n",
              "    }\n",
              "</style>\n",
              "<table border=\"1\" class=\"dataframe\">\n",
              "  <thead>\n",
              "    <tr style=\"text-align: right;\">\n",
              "      <th></th>\n",
              "      <th>name</th>\n",
              "      <th>PGA</th>\n",
              "      <th>ASQ</th>\n",
              "      <th>ARS</th>\n",
              "      <th>Ia</th>\n",
              "      <th>Arms</th>\n",
              "      <th>Ic</th>\n",
              "      <th>EPA</th>\n",
              "      <th>SaTf1</th>\n",
              "      <th>CSA</th>\n",
              "      <th>ASI</th>\n",
              "      <th>CAV</th>\n",
              "      <th>PGV</th>\n",
              "      <th>VSQ</th>\n",
              "      <th>VRS</th>\n",
              "      <th>Vrms</th>\n",
              "      <th>Ih</th>\n",
              "      <th>CAD</th>\n",
              "      <th>SvTf1</th>\n",
              "      <th>VC1</th>\n",
              "      <th>VC2</th>\n",
              "      <th>PGD</th>\n",
              "      <th>DSQ</th>\n",
              "      <th>DRS</th>\n",
              "      <th>Drms</th>\n",
              "      <th>CAI</th>\n",
              "      <th>DC</th>\n",
              "      <th>T1</th>\n",
              "      <th>T2</th>\n",
              "      <th>T3</th>\n",
              "      <th>T4</th>\n",
              "      <th>RVA</th>\n",
              "      <th>RDV</th>\n",
              "      <th>SdTf1</th>\n",
              "      <th>SaTf2</th>\n",
              "      <th>SvTf2</th>\n",
              "      <th>SdTf2</th>\n",
              "      <th>SaTf3</th>\n",
              "      <th>SvTf3</th>\n",
              "      <th>SdTf3</th>\n",
              "      <th>...</th>\n",
              "      <th>Col132sec1SStrainTop</th>\n",
              "      <th>Col132sec5SStrainBot</th>\n",
              "      <th>Col132sec5SStrainTop</th>\n",
              "      <th>Col133sec1SStrainBot</th>\n",
              "      <th>Col133sec1SStrainTop</th>\n",
              "      <th>Col133sec5SStrainBot</th>\n",
              "      <th>Col133sec5SStrainTop</th>\n",
              "      <th>Col134sec1SStrainBot</th>\n",
              "      <th>Col134sec1SStrainTop</th>\n",
              "      <th>Col134sec5SStrainBot</th>\n",
              "      <th>Col134sec5SStrainTop</th>\n",
              "      <th>Col135sec1SStrainBot</th>\n",
              "      <th>Col135sec1SStrainTop</th>\n",
              "      <th>Col135sec5SStrainBot</th>\n",
              "      <th>Col135sec5SStrainTop</th>\n",
              "      <th>Col141sec1SStrainBot</th>\n",
              "      <th>Col141sec1SStrainTop</th>\n",
              "      <th>Col141sec5SStrainBot</th>\n",
              "      <th>Col141sec5SStrainTop</th>\n",
              "      <th>Col142sec1SStrainBot</th>\n",
              "      <th>Col142sec1SStrainTop</th>\n",
              "      <th>Col142sec5SStrainBot</th>\n",
              "      <th>Col142sec5SStrainTop</th>\n",
              "      <th>Col143sec1SStrainBot</th>\n",
              "      <th>Col143sec1SStrainTop</th>\n",
              "      <th>Col143sec5SStrainBot</th>\n",
              "      <th>Col143sec5SStrainTop</th>\n",
              "      <th>Col144sec1SStrainBot</th>\n",
              "      <th>Col144sec1SStrainTop</th>\n",
              "      <th>Col144sec5SStrainBot</th>\n",
              "      <th>Col144sec5SStrainTop</th>\n",
              "      <th>Col145sec1SStrainBot</th>\n",
              "      <th>Col145sec1SStrainTop</th>\n",
              "      <th>Col145sec5SStrainBot</th>\n",
              "      <th>Col145sec5SStrainTop</th>\n",
              "      <th>drift01</th>\n",
              "      <th>drift12</th>\n",
              "      <th>drift23</th>\n",
              "      <th>drift34</th>\n",
              "      <th>midr</th>\n",
              "    </tr>\n",
              "  </thead>\n",
              "  <tbody>\n",
              "    <tr>\n",
              "      <th>9097</th>\n",
              "      <td>RSN5661_IWATE_MYG002EW_by5</td>\n",
              "      <td>13.809537</td>\n",
              "      <td>264.041428</td>\n",
              "      <td>16.249352</td>\n",
              "      <td>42.278828</td>\n",
              "      <td>0.938172</td>\n",
              "      <td>4.358007</td>\n",
              "      <td>2.676303</td>\n",
              "      <td>1.877232</td>\n",
              "      <td>1.149232</td>\n",
              "      <td>4.896267</td>\n",
              "      <td>92.079447</td>\n",
              "      <td>0.297713</td>\n",
              "      <td>0.147279</td>\n",
              "      <td>0.383769</td>\n",
              "      <td>0.022157</td>\n",
              "      <td>0.491134</td>\n",
              "      <td>2.467854</td>\n",
              "      <td>0.215855</td>\n",
              "      <td>0.651974</td>\n",
              "      <td>1.267968</td>\n",
              "      <td>0.101583</td>\n",
              "      <td>0.05775</td>\n",
              "      <td>0.240312</td>\n",
              "      <td>0.013875</td>\n",
              "      <td>1.940443</td>\n",
              "      <td>0.288888</td>\n",
              "      <td>12.26</td>\n",
              "      <td>23.0</td>\n",
              "      <td>259.85</td>\n",
              "      <td>183.15</td>\n",
              "      <td>0.021559</td>\n",
              "      <td>0.34121</td>\n",
              "      <td>0.02482</td>\n",
              "      <td>9.850119</td>\n",
              "      <td>0.367292</td>\n",
              "      <td>0.013696</td>\n",
              "      <td>34.804126</td>\n",
              "      <td>0.612563</td>\n",
              "      <td>0.010781</td>\n",
              "      <td>...</td>\n",
              "      <td>0.001774</td>\n",
              "      <td>0.004576</td>\n",
              "      <td>0.00162</td>\n",
              "      <td>0.002041</td>\n",
              "      <td>0.001901</td>\n",
              "      <td>0.004481</td>\n",
              "      <td>0.001645</td>\n",
              "      <td>0.002186</td>\n",
              "      <td>0.002058</td>\n",
              "      <td>0.00511</td>\n",
              "      <td>0.001812</td>\n",
              "      <td>0.001596</td>\n",
              "      <td>0.005272</td>\n",
              "      <td>0.013035</td>\n",
              "      <td>0.002028</td>\n",
              "      <td>0.008303</td>\n",
              "      <td>0.001545</td>\n",
              "      <td>0.001755</td>\n",
              "      <td>0.017458</td>\n",
              "      <td>0.005527</td>\n",
              "      <td>0.002074</td>\n",
              "      <td>0.001219</td>\n",
              "      <td>0.000834</td>\n",
              "      <td>0.004914</td>\n",
              "      <td>0.002458</td>\n",
              "      <td>0.00131</td>\n",
              "      <td>0.001085</td>\n",
              "      <td>0.004413</td>\n",
              "      <td>0.005196</td>\n",
              "      <td>0.00108</td>\n",
              "      <td>0.000945</td>\n",
              "      <td>0.001582</td>\n",
              "      <td>0.010393</td>\n",
              "      <td>0.015271</td>\n",
              "      <td>0.001737</td>\n",
              "      <td>0.00054</td>\n",
              "      <td>0.001403</td>\n",
              "      <td>-0.000036</td>\n",
              "      <td>-0.003219</td>\n",
              "      <td>0.003219</td>\n",
              "    </tr>\n",
              "  </tbody>\n",
              "</table>\n",
              "<p>1 rows × 202 columns</p>\n",
              "</div>"
            ],
            "text/plain": [
              "                            name        PGA  ...   drift34      midr\n",
              "9097  RSN5661_IWATE_MYG002EW_by5  13.809537  ... -0.003219  0.003219\n",
              "\n",
              "[1 rows x 202 columns]"
            ]
          },
          "metadata": {},
          "execution_count": 11
        }
      ]
    },
    {
      "cell_type": "code",
      "metadata": {
        "id": "wd31QHh2P7UP"
      },
      "source": [
        "hist_data['midr'] = hist_data[['drift01','drift12','drift23','drift34']].abs().max(axis=1)"
      ],
      "execution_count": 8,
      "outputs": []
    },
    {
      "cell_type": "code",
      "metadata": {
        "id": "qy95cEB0SCGS"
      },
      "source": [
        "new_scal_data['midr'] = new_scal_data[['drift01','drift12','drift23','drift34']].abs().max(axis=1)"
      ],
      "execution_count": 10,
      "outputs": []
    },
    {
      "cell_type": "code",
      "metadata": {
        "id": "L6kqecPjSXEV"
      },
      "source": [
        "frames = [hist_data[['PGA','PGV','SaTf5','SaTf6','SaTf7','midr']],new_scal_data[['PGA','PGV','SaTf5','SaTf6','SaTf7','midr']]]\n",
        "data = pd.concat(frames,ignore_index=True)"
      ],
      "execution_count": 23,
      "outputs": []
    },
    {
      "cell_type": "code",
      "metadata": {
        "colab": {
          "base_uri": "https://localhost:8080/",
          "height": 424
        },
        "id": "PVnX8NWiU8tI",
        "outputId": "cf2f949f-d10e-4701-d466-9caf0a0b65ab"
      },
      "source": [
        "data"
      ],
      "execution_count": 24,
      "outputs": [
        {
          "output_type": "execute_result",
          "data": {
            "text/html": [
              "<div>\n",
              "<style scoped>\n",
              "    .dataframe tbody tr th:only-of-type {\n",
              "        vertical-align: middle;\n",
              "    }\n",
              "\n",
              "    .dataframe tbody tr th {\n",
              "        vertical-align: top;\n",
              "    }\n",
              "\n",
              "    .dataframe thead th {\n",
              "        text-align: right;\n",
              "    }\n",
              "</style>\n",
              "<table border=\"1\" class=\"dataframe\">\n",
              "  <thead>\n",
              "    <tr style=\"text-align: right;\">\n",
              "      <th></th>\n",
              "      <th>PGA</th>\n",
              "      <th>PGV</th>\n",
              "      <th>SaTf5</th>\n",
              "      <th>SaTf6</th>\n",
              "      <th>SaTf7</th>\n",
              "      <th>midr</th>\n",
              "    </tr>\n",
              "  </thead>\n",
              "  <tbody>\n",
              "    <tr>\n",
              "      <th>0</th>\n",
              "      <td>1.827211</td>\n",
              "      <td>0.142719</td>\n",
              "      <td>2.314236</td>\n",
              "      <td>1.457834</td>\n",
              "      <td>0.247253</td>\n",
              "      <td>0.000698</td>\n",
              "    </tr>\n",
              "    <tr>\n",
              "      <th>1</th>\n",
              "      <td>2.097967</td>\n",
              "      <td>0.107912</td>\n",
              "      <td>5.157146</td>\n",
              "      <td>0.918289</td>\n",
              "      <td>0.192222</td>\n",
              "      <td>0.001224</td>\n",
              "    </tr>\n",
              "    <tr>\n",
              "      <th>2</th>\n",
              "      <td>1.493769</td>\n",
              "      <td>0.158245</td>\n",
              "      <td>5.373002</td>\n",
              "      <td>1.826371</td>\n",
              "      <td>0.654316</td>\n",
              "      <td>0.001143</td>\n",
              "    </tr>\n",
              "    <tr>\n",
              "      <th>3</th>\n",
              "      <td>1.532518</td>\n",
              "      <td>0.028878</td>\n",
              "      <td>1.243124</td>\n",
              "      <td>0.168059</td>\n",
              "      <td>0.029316</td>\n",
              "      <td>0.000252</td>\n",
              "    </tr>\n",
              "    <tr>\n",
              "      <th>4</th>\n",
              "      <td>4.720964</td>\n",
              "      <td>0.146641</td>\n",
              "      <td>9.772353</td>\n",
              "      <td>0.995590</td>\n",
              "      <td>0.077030</td>\n",
              "      <td>0.001300</td>\n",
              "    </tr>\n",
              "    <tr>\n",
              "      <th>...</th>\n",
              "      <td>...</td>\n",
              "      <td>...</td>\n",
              "      <td>...</td>\n",
              "      <td>...</td>\n",
              "      <td>...</td>\n",
              "      <td>...</td>\n",
              "    </tr>\n",
              "    <tr>\n",
              "      <th>11080</th>\n",
              "      <td>10.837107</td>\n",
              "      <td>0.255813</td>\n",
              "      <td>7.663499</td>\n",
              "      <td>0.748632</td>\n",
              "      <td>0.371631</td>\n",
              "      <td>0.001873</td>\n",
              "    </tr>\n",
              "    <tr>\n",
              "      <th>11081</th>\n",
              "      <td>5.523717</td>\n",
              "      <td>0.119081</td>\n",
              "      <td>2.457124</td>\n",
              "      <td>0.534971</td>\n",
              "      <td>0.164799</td>\n",
              "      <td>0.000492</td>\n",
              "    </tr>\n",
              "    <tr>\n",
              "      <th>11082</th>\n",
              "      <td>8.285526</td>\n",
              "      <td>0.178608</td>\n",
              "      <td>3.685676</td>\n",
              "      <td>0.802474</td>\n",
              "      <td>0.247208</td>\n",
              "      <td>0.000435</td>\n",
              "    </tr>\n",
              "    <tr>\n",
              "      <th>11083</th>\n",
              "      <td>11.047041</td>\n",
              "      <td>0.238148</td>\n",
              "      <td>4.914237</td>\n",
              "      <td>1.069931</td>\n",
              "      <td>0.329590</td>\n",
              "      <td>0.002291</td>\n",
              "    </tr>\n",
              "    <tr>\n",
              "      <th>11084</th>\n",
              "      <td>13.809537</td>\n",
              "      <td>0.297713</td>\n",
              "      <td>6.142835</td>\n",
              "      <td>1.337430</td>\n",
              "      <td>0.411995</td>\n",
              "      <td>0.003219</td>\n",
              "    </tr>\n",
              "  </tbody>\n",
              "</table>\n",
              "<p>11085 rows × 6 columns</p>\n",
              "</div>"
            ],
            "text/plain": [
              "             PGA       PGV     SaTf5     SaTf6     SaTf7      midr\n",
              "0       1.827211  0.142719  2.314236  1.457834  0.247253  0.000698\n",
              "1       2.097967  0.107912  5.157146  0.918289  0.192222  0.001224\n",
              "2       1.493769  0.158245  5.373002  1.826371  0.654316  0.001143\n",
              "3       1.532518  0.028878  1.243124  0.168059  0.029316  0.000252\n",
              "4       4.720964  0.146641  9.772353  0.995590  0.077030  0.001300\n",
              "...          ...       ...       ...       ...       ...       ...\n",
              "11080  10.837107  0.255813  7.663499  0.748632  0.371631  0.001873\n",
              "11081   5.523717  0.119081  2.457124  0.534971  0.164799  0.000492\n",
              "11082   8.285526  0.178608  3.685676  0.802474  0.247208  0.000435\n",
              "11083  11.047041  0.238148  4.914237  1.069931  0.329590  0.002291\n",
              "11084  13.809537  0.297713  6.142835  1.337430  0.411995  0.003219\n",
              "\n",
              "[11085 rows x 6 columns]"
            ]
          },
          "metadata": {},
          "execution_count": 24
        }
      ]
    },
    {
      "cell_type": "code",
      "metadata": {
        "colab": {
          "base_uri": "https://localhost:8080/",
          "height": 206
        },
        "id": "CKchE2m4qqZL",
        "outputId": "7f1a715b-0cd9-463e-c43a-b0a38311ffb6"
      },
      "source": [
        "import numpy as np\n",
        "conditions = [\n",
        "              (data['midr'] < 0.0033),\n",
        "              (data['midr'] >= 0.0033) & (data['midr'] < 0.0067),\n",
        "              (data['midr'] >= 0.0067) & (data['midr'] < 0.02),\n",
        "              (data['midr'] >= 0.02) & (data['midr'] < 0.0533),\n",
        "              (data['midr'] >= 0.0533)\n",
        "]\n",
        "# list of class values assigned to samples\n",
        "values = [0,1,2,3,4]\n",
        "data['damage'] = np.select(conditions,values)\n",
        "data.head(5)"
      ],
      "execution_count": 28,
      "outputs": [
        {
          "output_type": "execute_result",
          "data": {
            "text/html": [
              "<div>\n",
              "<style scoped>\n",
              "    .dataframe tbody tr th:only-of-type {\n",
              "        vertical-align: middle;\n",
              "    }\n",
              "\n",
              "    .dataframe tbody tr th {\n",
              "        vertical-align: top;\n",
              "    }\n",
              "\n",
              "    .dataframe thead th {\n",
              "        text-align: right;\n",
              "    }\n",
              "</style>\n",
              "<table border=\"1\" class=\"dataframe\">\n",
              "  <thead>\n",
              "    <tr style=\"text-align: right;\">\n",
              "      <th></th>\n",
              "      <th>PGA</th>\n",
              "      <th>PGV</th>\n",
              "      <th>SaTf5</th>\n",
              "      <th>SaTf6</th>\n",
              "      <th>SaTf7</th>\n",
              "      <th>midr</th>\n",
              "      <th>damage</th>\n",
              "    </tr>\n",
              "  </thead>\n",
              "  <tbody>\n",
              "    <tr>\n",
              "      <th>0</th>\n",
              "      <td>1.827211</td>\n",
              "      <td>0.142719</td>\n",
              "      <td>2.314236</td>\n",
              "      <td>1.457834</td>\n",
              "      <td>0.247253</td>\n",
              "      <td>0.000698</td>\n",
              "      <td>0</td>\n",
              "    </tr>\n",
              "    <tr>\n",
              "      <th>1</th>\n",
              "      <td>2.097967</td>\n",
              "      <td>0.107912</td>\n",
              "      <td>5.157146</td>\n",
              "      <td>0.918289</td>\n",
              "      <td>0.192222</td>\n",
              "      <td>0.001224</td>\n",
              "      <td>0</td>\n",
              "    </tr>\n",
              "    <tr>\n",
              "      <th>2</th>\n",
              "      <td>1.493769</td>\n",
              "      <td>0.158245</td>\n",
              "      <td>5.373002</td>\n",
              "      <td>1.826371</td>\n",
              "      <td>0.654316</td>\n",
              "      <td>0.001143</td>\n",
              "      <td>0</td>\n",
              "    </tr>\n",
              "    <tr>\n",
              "      <th>3</th>\n",
              "      <td>1.532518</td>\n",
              "      <td>0.028878</td>\n",
              "      <td>1.243124</td>\n",
              "      <td>0.168059</td>\n",
              "      <td>0.029316</td>\n",
              "      <td>0.000252</td>\n",
              "      <td>0</td>\n",
              "    </tr>\n",
              "    <tr>\n",
              "      <th>4</th>\n",
              "      <td>4.720964</td>\n",
              "      <td>0.146641</td>\n",
              "      <td>9.772353</td>\n",
              "      <td>0.995590</td>\n",
              "      <td>0.077030</td>\n",
              "      <td>0.001300</td>\n",
              "      <td>0</td>\n",
              "    </tr>\n",
              "  </tbody>\n",
              "</table>\n",
              "</div>"
            ],
            "text/plain": [
              "        PGA       PGV     SaTf5     SaTf6     SaTf7      midr  damage\n",
              "0  1.827211  0.142719  2.314236  1.457834  0.247253  0.000698       0\n",
              "1  2.097967  0.107912  5.157146  0.918289  0.192222  0.001224       0\n",
              "2  1.493769  0.158245  5.373002  1.826371  0.654316  0.001143       0\n",
              "3  1.532518  0.028878  1.243124  0.168059  0.029316  0.000252       0\n",
              "4  4.720964  0.146641  9.772353  0.995590  0.077030  0.001300       0"
            ]
          },
          "metadata": {},
          "execution_count": 28
        }
      ]
    },
    {
      "cell_type": "code",
      "metadata": {
        "colab": {
          "base_uri": "https://localhost:8080/",
          "height": 17
        },
        "id": "CFrfCE2dtAiY",
        "outputId": "b409298b-283f-49e8-ccf3-5521924636c3"
      },
      "source": [
        "data.to_csv('data.csv')\n",
        "files.download('data.csv')"
      ],
      "execution_count": 29,
      "outputs": [
        {
          "output_type": "display_data",
          "data": {
            "application/javascript": [
              "\n",
              "    async function download(id, filename, size) {\n",
              "      if (!google.colab.kernel.accessAllowed) {\n",
              "        return;\n",
              "      }\n",
              "      const div = document.createElement('div');\n",
              "      const label = document.createElement('label');\n",
              "      label.textContent = `Downloading \"${filename}\": `;\n",
              "      div.appendChild(label);\n",
              "      const progress = document.createElement('progress');\n",
              "      progress.max = size;\n",
              "      div.appendChild(progress);\n",
              "      document.body.appendChild(div);\n",
              "\n",
              "      const buffers = [];\n",
              "      let downloaded = 0;\n",
              "\n",
              "      const channel = await google.colab.kernel.comms.open(id);\n",
              "      // Send a message to notify the kernel that we're ready.\n",
              "      channel.send({})\n",
              "\n",
              "      for await (const message of channel.messages) {\n",
              "        // Send a message to notify the kernel that we're ready.\n",
              "        channel.send({})\n",
              "        if (message.buffers) {\n",
              "          for (const buffer of message.buffers) {\n",
              "            buffers.push(buffer);\n",
              "            downloaded += buffer.byteLength;\n",
              "            progress.value = downloaded;\n",
              "          }\n",
              "        }\n",
              "      }\n",
              "      const blob = new Blob(buffers, {type: 'application/binary'});\n",
              "      const a = document.createElement('a');\n",
              "      a.href = window.URL.createObjectURL(blob);\n",
              "      a.download = filename;\n",
              "      div.appendChild(a);\n",
              "      a.click();\n",
              "      div.remove();\n",
              "    }\n",
              "  "
            ],
            "text/plain": [
              "<IPython.core.display.Javascript object>"
            ]
          },
          "metadata": {}
        },
        {
          "output_type": "display_data",
          "data": {
            "application/javascript": [
              "download(\"download_41c8e015-d53a-4fa1-b87d-27d3e08ae953\", \"data.csv\", 952694)"
            ],
            "text/plain": [
              "<IPython.core.display.Javascript object>"
            ]
          },
          "metadata": {}
        }
      ]
    },
    {
      "cell_type": "code",
      "metadata": {
        "id": "Mcvg7sDGd-oK"
      },
      "source": [
        "# def class_conditions(f):\n",
        "#   if f['midr'] < 0.0033:\n",
        "#     return 0\n",
        "#   elif f['midr'] >= 0.0033 and f['midr'] < 0.0067:\n",
        "#     return 1\n",
        "#   elif f['midr'] >= 0.0067 and f['midr'] < 0.02:\n",
        "#     return 2\n",
        "#   elif f['midr'] >= 0.02 and f['midr'] < 0.0533:\n",
        "#     return 3\n",
        "#   elif f['midr'] >= 0.0533:\n",
        "#     return 4\n",
        "\n",
        "# data['class'] = data['midr'].apply(class_conditions)"
      ],
      "execution_count": null,
      "outputs": []
    },
    {
      "cell_type": "markdown",
      "metadata": {
        "id": "dULHW2P3tkSt"
      },
      "source": [
        "# Training"
      ]
    },
    {
      "cell_type": "code",
      "metadata": {
        "id": "yKiND8NzsFiY"
      },
      "source": [
        "import numpy as np\n",
        "import pandas as pd\n",
        "from matplotlib import pyplot as plt\n",
        "from collections import Counter\n",
        "\n",
        "from sklearn.preprocessing import LabelEncoder\n",
        "from imblearn.under_sampling import RandomUnderSampler\n",
        "from imblearn.over_sampling import SMOTE\n",
        "from sklearn.model_selection import train_test_split\n",
        "from sklearn import preprocessing\n",
        "from imblearn.pipeline import Pipeline\n",
        "from sklearn.model_selection import cross_val_score\n",
        "\n",
        "import warnings\n",
        "warnings.simplefilter(action='ignore', category=FutureWarning)"
      ],
      "execution_count": 30,
      "outputs": []
    },
    {
      "cell_type": "code",
      "metadata": {
        "colab": {
          "base_uri": "https://localhost:8080/"
        },
        "id": "g2ILVl8Ltj2J",
        "outputId": "c86eae35-3f43-47a6-a803-8d3c5763d705"
      },
      "source": [
        "# To plot ROC curves\n",
        "!pip install scikit-plot"
      ],
      "execution_count": 31,
      "outputs": [
        {
          "output_type": "stream",
          "name": "stdout",
          "text": [
            "Collecting scikit-plot\n",
            "  Downloading scikit_plot-0.3.7-py3-none-any.whl (33 kB)\n",
            "Requirement already satisfied: joblib>=0.10 in /usr/local/lib/python3.7/dist-packages (from scikit-plot) (1.1.0)\n",
            "Requirement already satisfied: scipy>=0.9 in /usr/local/lib/python3.7/dist-packages (from scikit-plot) (1.4.1)\n",
            "Requirement already satisfied: scikit-learn>=0.18 in /usr/local/lib/python3.7/dist-packages (from scikit-plot) (1.0.1)\n",
            "Requirement already satisfied: matplotlib>=1.4.0 in /usr/local/lib/python3.7/dist-packages (from scikit-plot) (3.2.2)\n",
            "Requirement already satisfied: kiwisolver>=1.0.1 in /usr/local/lib/python3.7/dist-packages (from matplotlib>=1.4.0->scikit-plot) (1.3.2)\n",
            "Requirement already satisfied: python-dateutil>=2.1 in /usr/local/lib/python3.7/dist-packages (from matplotlib>=1.4.0->scikit-plot) (2.8.2)\n",
            "Requirement already satisfied: cycler>=0.10 in /usr/local/lib/python3.7/dist-packages (from matplotlib>=1.4.0->scikit-plot) (0.11.0)\n",
            "Requirement already satisfied: numpy>=1.11 in /usr/local/lib/python3.7/dist-packages (from matplotlib>=1.4.0->scikit-plot) (1.19.5)\n",
            "Requirement already satisfied: pyparsing!=2.0.4,!=2.1.2,!=2.1.6,>=2.0.1 in /usr/local/lib/python3.7/dist-packages (from matplotlib>=1.4.0->scikit-plot) (3.0.6)\n",
            "Requirement already satisfied: six>=1.5 in /usr/local/lib/python3.7/dist-packages (from python-dateutil>=2.1->matplotlib>=1.4.0->scikit-plot) (1.15.0)\n",
            "Requirement already satisfied: threadpoolctl>=2.0.0 in /usr/local/lib/python3.7/dist-packages (from scikit-learn>=0.18->scikit-plot) (3.0.0)\n",
            "Installing collected packages: scikit-plot\n",
            "Successfully installed scikit-plot-0.3.7\n"
          ]
        }
      ]
    },
    {
      "cell_type": "code",
      "metadata": {
        "id": "OX4868tpunZ0"
      },
      "source": [
        "def plot_distribution(data):\n",
        "  '''\n",
        "  Self-defined functions to plot the data distribution\n",
        "  '''\n",
        "  class_count = sorted(Counter(data).items())\n",
        "  fig, ax = plt.subplots()\n",
        "  ax.bar([x[0] for x in class_count], [x[1] for x in class_count])\n",
        "  for item in class_count:\n",
        "    plt.text(x=item[0]-0.3 , y =item[1]+1 , s=str(item[1]) , fontdict=dict(fontsize=15))\n",
        "  plt.show()"
      ],
      "execution_count": 32,
      "outputs": []
    },
    {
      "cell_type": "code",
      "metadata": {
        "colab": {
          "base_uri": "https://localhost:8080/",
          "height": 267
        },
        "id": "36VajAypuoum",
        "outputId": "03171ad1-409a-4d89-d4d8-70913b518bea"
      },
      "source": [
        "train_x,train_y = data.values[:,:-2], data.values[:,-1]\n",
        "train_y = LabelEncoder().fit_transform(train_y)\n",
        "plot_distribution(train_y)"
      ],
      "execution_count": 34,
      "outputs": [
        {
          "output_type": "display_data",
          "data": {
            "image/png": "[encoded data removed]",
            "text/plain": [
              "<Figure size 432x288 with 1 Axes>"
            ]
          },
          "metadata": {
            "needs_background": "light"
          }
        }
      ]
    },
    {
      "cell_type": "code",
      "metadata": {
        "colab": {
          "base_uri": "https://localhost:8080/",
          "height": 206
        },
        "id": "Ef9rdqwCvD7o",
        "outputId": "0867ef27-4f57-4dad-917e-92fba8c3f22d"
      },
      "source": [
        "corr = data.iloc[:,:-2].corr(method='spearman')\n",
        "corr.style.background_gradient(cmap='coolwarm')"
      ],
      "execution_count": 35,
      "outputs": [
        {
          "output_type": "execute_result",
          "data": {
            "text/html": [
              "<style  type=\"text/css\" >\n",
              "#T_c56e0966_4f3d_11ec_aa27_0242ac1c0002row0_col0,#T_c56e0966_4f3d_11ec_aa27_0242ac1c0002row1_col1,#T_c56e0966_4f3d_11ec_aa27_0242ac1c0002row2_col2,#T_c56e0966_4f3d_11ec_aa27_0242ac1c0002row3_col3,#T_c56e0966_4f3d_11ec_aa27_0242ac1c0002row4_col4{\n",
              "            background-color:  #b40426;\n",
              "            color:  #f1f1f1;\n",
              "        }#T_c56e0966_4f3d_11ec_aa27_0242ac1c0002row0_col1,#T_c56e0966_4f3d_11ec_aa27_0242ac1c0002row0_col3,#T_c56e0966_4f3d_11ec_aa27_0242ac1c0002row0_col4,#T_c56e0966_4f3d_11ec_aa27_0242ac1c0002row4_col0,#T_c56e0966_4f3d_11ec_aa27_0242ac1c0002row4_col2{\n",
              "            background-color:  #3b4cc0;\n",
              "            color:  #f1f1f1;\n",
              "        }#T_c56e0966_4f3d_11ec_aa27_0242ac1c0002row0_col2{\n",
              "            background-color:  #f59f80;\n",
              "            color:  #000000;\n",
              "        }#T_c56e0966_4f3d_11ec_aa27_0242ac1c0002row1_col0,#T_c56e0966_4f3d_11ec_aa27_0242ac1c0002row1_col2{\n",
              "            background-color:  #c9d7f0;\n",
              "            color:  #000000;\n",
              "        }#T_c56e0966_4f3d_11ec_aa27_0242ac1c0002row1_col3{\n",
              "            background-color:  #f08a6c;\n",
              "            color:  #000000;\n",
              "        }#T_c56e0966_4f3d_11ec_aa27_0242ac1c0002row1_col4{\n",
              "            background-color:  #f39475;\n",
              "            color:  #000000;\n",
              "        }#T_c56e0966_4f3d_11ec_aa27_0242ac1c0002row2_col0{\n",
              "            background-color:  #f29072;\n",
              "            color:  #000000;\n",
              "        }#T_c56e0966_4f3d_11ec_aa27_0242ac1c0002row2_col1,#T_c56e0966_4f3d_11ec_aa27_0242ac1c0002row2_col3{\n",
              "            background-color:  #6384eb;\n",
              "            color:  #000000;\n",
              "        }#T_c56e0966_4f3d_11ec_aa27_0242ac1c0002row2_col4{\n",
              "            background-color:  #6282ea;\n",
              "            color:  #000000;\n",
              "        }#T_c56e0966_4f3d_11ec_aa27_0242ac1c0002row3_col0{\n",
              "            background-color:  #8caffe;\n",
              "            color:  #000000;\n",
              "        }#T_c56e0966_4f3d_11ec_aa27_0242ac1c0002row3_col1,#T_c56e0966_4f3d_11ec_aa27_0242ac1c0002row3_col4{\n",
              "            background-color:  #f6a586;\n",
              "            color:  #000000;\n",
              "        }#T_c56e0966_4f3d_11ec_aa27_0242ac1c0002row3_col2{\n",
              "            background-color:  #8db0fe;\n",
              "            color:  #000000;\n",
              "        }#T_c56e0966_4f3d_11ec_aa27_0242ac1c0002row4_col1{\n",
              "            background-color:  #f1cdba;\n",
              "            color:  #000000;\n",
              "        }#T_c56e0966_4f3d_11ec_aa27_0242ac1c0002row4_col3{\n",
              "            background-color:  #f5c2aa;\n",
              "            color:  #000000;\n",
              "        }</style><table id=\"T_c56e0966_4f3d_11ec_aa27_0242ac1c0002\" class=\"dataframe\"><thead>    <tr>        <th class=\"blank level0\" ></th>        <th class=\"col_heading level0 col0\" >PGA</th>        <th class=\"col_heading level0 col1\" >PGV</th>        <th class=\"col_heading level0 col2\" >SaTf5</th>        <th class=\"col_heading level0 col3\" >SaTf6</th>        <th class=\"col_heading level0 col4\" >SaTf7</th>    </tr></thead><tbody>\n",
              "                <tr>\n",
              "                        <th id=\"T_c56e0966_4f3d_11ec_aa27_0242ac1c0002level0_row0\" class=\"row_heading level0 row0\" >PGA</th>\n",
              "                        <td id=\"T_c56e0966_4f3d_11ec_aa27_0242ac1c0002row0_col0\" class=\"data row0 col0\" >1.000000</td>\n",
              "                        <td id=\"T_c56e0966_4f3d_11ec_aa27_0242ac1c0002row0_col1\" class=\"data row0 col1\" >0.612926</td>\n",
              "                        <td id=\"T_c56e0966_4f3d_11ec_aa27_0242ac1c0002row0_col2\" class=\"data row0 col2\" >0.845535</td>\n",
              "                        <td id=\"T_c56e0966_4f3d_11ec_aa27_0242ac1c0002row0_col3\" class=\"data row0 col3\" >0.493300</td>\n",
              "                        <td id=\"T_c56e0966_4f3d_11ec_aa27_0242ac1c0002row0_col4\" class=\"data row0 col4\" >0.325296</td>\n",
              "            </tr>\n",
              "            <tr>\n",
              "                        <th id=\"T_c56e0966_4f3d_11ec_aa27_0242ac1c0002level0_row1\" class=\"row_heading level0 row1\" >PGV</th>\n",
              "                        <td id=\"T_c56e0966_4f3d_11ec_aa27_0242ac1c0002row1_col0\" class=\"data row1 col0\" >0.612926</td>\n",
              "                        <td id=\"T_c56e0966_4f3d_11ec_aa27_0242ac1c0002row1_col1\" class=\"data row1 col1\" >1.000000</td>\n",
              "                        <td id=\"T_c56e0966_4f3d_11ec_aa27_0242ac1c0002row1_col2\" class=\"data row1 col2\" >0.663812</td>\n",
              "                        <td id=\"T_c56e0966_4f3d_11ec_aa27_0242ac1c0002row1_col3\" class=\"data row1 col3\" >0.891601</td>\n",
              "                        <td id=\"T_c56e0966_4f3d_11ec_aa27_0242ac1c0002row1_col4\" class=\"data row1 col4\" >0.841408</td>\n",
              "            </tr>\n",
              "            <tr>\n",
              "                        <th id=\"T_c56e0966_4f3d_11ec_aa27_0242ac1c0002level0_row2\" class=\"row_heading level0 row2\" >SaTf5</th>\n",
              "                        <td id=\"T_c56e0966_4f3d_11ec_aa27_0242ac1c0002row2_col0\" class=\"data row2 col0\" >0.845535</td>\n",
              "                        <td id=\"T_c56e0966_4f3d_11ec_aa27_0242ac1c0002row2_col1\" class=\"data row2 col1\" >0.663812</td>\n",
              "                        <td id=\"T_c56e0966_4f3d_11ec_aa27_0242ac1c0002row2_col2\" class=\"data row2 col2\" >1.000000</td>\n",
              "                        <td id=\"T_c56e0966_4f3d_11ec_aa27_0242ac1c0002row2_col3\" class=\"data row2 col3\" >0.560457</td>\n",
              "                        <td id=\"T_c56e0966_4f3d_11ec_aa27_0242ac1c0002row2_col4\" class=\"data row2 col4\" >0.412217</td>\n",
              "            </tr>\n",
              "            <tr>\n",
              "                        <th id=\"T_c56e0966_4f3d_11ec_aa27_0242ac1c0002level0_row3\" class=\"row_heading level0 row3\" >SaTf6</th>\n",
              "                        <td id=\"T_c56e0966_4f3d_11ec_aa27_0242ac1c0002row3_col0\" class=\"data row3 col0\" >0.493300</td>\n",
              "                        <td id=\"T_c56e0966_4f3d_11ec_aa27_0242ac1c0002row3_col1\" class=\"data row3 col1\" >0.891601</td>\n",
              "                        <td id=\"T_c56e0966_4f3d_11ec_aa27_0242ac1c0002row3_col2\" class=\"data row3 col2\" >0.560457</td>\n",
              "                        <td id=\"T_c56e0966_4f3d_11ec_aa27_0242ac1c0002row3_col3\" class=\"data row3 col3\" >1.000000</td>\n",
              "                        <td id=\"T_c56e0966_4f3d_11ec_aa27_0242ac1c0002row3_col4\" class=\"data row3 col4\" >0.812833</td>\n",
              "            </tr>\n",
              "            <tr>\n",
              "                        <th id=\"T_c56e0966_4f3d_11ec_aa27_0242ac1c0002level0_row4\" class=\"row_heading level0 row4\" >SaTf7</th>\n",
              "                        <td id=\"T_c56e0966_4f3d_11ec_aa27_0242ac1c0002row4_col0\" class=\"data row4 col0\" >0.325296</td>\n",
              "                        <td id=\"T_c56e0966_4f3d_11ec_aa27_0242ac1c0002row4_col1\" class=\"data row4 col1\" >0.841408</td>\n",
              "                        <td id=\"T_c56e0966_4f3d_11ec_aa27_0242ac1c0002row4_col2\" class=\"data row4 col2\" >0.412217</td>\n",
              "                        <td id=\"T_c56e0966_4f3d_11ec_aa27_0242ac1c0002row4_col3\" class=\"data row4 col3\" >0.812833</td>\n",
              "                        <td id=\"T_c56e0966_4f3d_11ec_aa27_0242ac1c0002row4_col4\" class=\"data row4 col4\" >1.000000</td>\n",
              "            </tr>\n",
              "    </tbody></table>"
            ],
            "text/plain": [
              "<pandas.io.formats.style.Styler at 0x7f30d5c4d110>"
            ]
          },
          "metadata": {},
          "execution_count": 35
        }
      ]
    },
    {
      "cell_type": "code",
      "metadata": {
        "colab": {
          "base_uri": "https://localhost:8080/",
          "height": 314
        },
        "id": "sbmHhb5evMf8",
        "outputId": "c5fd766a-47ed-4f17-c0a5-6aac0117d109"
      },
      "source": [
        "feature_target_corr = data[data.columns[:]].corr(method='spearman')['damage'][:]\n",
        "ax = feature_target_corr.plot(kind='bar')\n",
        "ax.set_ylabel(\"corr. coef.\")"
      ],
      "execution_count": 37,
      "outputs": [
        {
          "output_type": "execute_result",
          "data": {
            "text/plain": [
              "Text(0, 0.5, 'corr. coef.')"
            ]
          },
          "metadata": {},
          "execution_count": 37
        },
        {
          "output_type": "display_data",
          "data": {
            "image/png": "[encoded data removed]",
            "text/plain": [
              "<Figure size 432x288 with 1 Axes>"
            ]
          },
          "metadata": {
            "needs_background": "light"
          }
        }
      ]
    },
    {
      "cell_type": "markdown",
      "metadata": {
        "id": "1ue9AXk7vppJ"
      },
      "source": [
        "# Undersampling"
      ]
    },
    {
      "cell_type": "code",
      "metadata": {
        "colab": {
          "base_uri": "https://localhost:8080/",
          "height": 517
        },
        "id": "Cz0LBJ1Nvo7E",
        "outputId": "5a9d10a6-4b4e-4ddf-a568-932a30a768b5"
      },
      "source": [
        "#Split train-test data\n",
        "X_train, X_test, y_train, y_test = train_test_split(train_x,train_y,test_size=0.30)\n",
        "plot_distribution(y_train)\n",
        "plot_distribution(y_test)"
      ],
      "execution_count": 38,
      "outputs": [
        {
          "output_type": "display_data",
          "data": {
            "image/png": "[encoded data removed]",
            "text/plain": [
              "<Figure size 432x288 with 1 Axes>"
            ]
          },
          "metadata": {
            "needs_background": "light"
          }
        },
        {
          "output_type": "display_data",
          "data": {
            "image/png": "[encoded data removed]",
            "text/plain": [
              "<Figure size 432x288 with 1 Axes>"
            ]
          },
          "metadata": {
            "needs_background": "light"
          }
        }
      ]
    },
    {
      "cell_type": "code",
      "metadata": {
        "colab": {
          "base_uri": "https://localhost:8080/",
          "height": 268
        },
        "id": "1NNrmfETvyM0",
        "outputId": "51c92de2-40cc-4866-bc71-dcef682a2939"
      },
      "source": [
        "# Under sampling\n",
        "undersample = RandomUnderSampler(sampling_strategy='auto')\n",
        "X_train_under, y_train_under = undersample.fit_resample(X_train, y_train)\n",
        "plot_distribution(y_train_under)"
      ],
      "execution_count": 39,
      "outputs": [
        {
          "output_type": "display_data",
          "data": {
            "image/png": "[encoded data removed]",
            "text/plain": [
              "<Figure size 432x288 with 1 Axes>"
            ]
          },
          "metadata": {
            "needs_background": "light"
          }
        }
      ]
    },
    {
      "cell_type": "markdown",
      "metadata": {
        "id": "BdtOgWgVv5fQ"
      },
      "source": [
        "## Models training\n",
        "### 1. Support Vector Machine (SVM)\n",
        "### 2. Decision Tree (DT)\n",
        "### 3. K Nearest Neighbors (KNN)\n",
        "### 4. Naive Bayes Classifier (GNB)\n",
        "### 5. Feedforward Neural Networks (FNN)\n",
        "### 6. RandomForest (RFC)"
      ]
    },
    {
      "cell_type": "code",
      "metadata": {
        "id": "tSk_ckJuvz3T"
      },
      "source": [
        "# accuracies of each model\n",
        "under_accuracy = []"
      ],
      "execution_count": 40,
      "outputs": []
    },
    {
      "cell_type": "markdown",
      "metadata": {
        "id": "mcoFWxW2wAYM"
      },
      "source": [
        "### 1. SVM"
      ]
    },
    {
      "cell_type": "code",
      "metadata": {
        "colab": {
          "base_uri": "https://localhost:8080/"
        },
        "id": "4KUuuyvWv9UJ",
        "outputId": "efaa2e68-3251-4649-9713-f2b29befe22f"
      },
      "source": [
        "from sklearn.svm import SVC\n",
        "from sklearn.metrics import classification_report, roc_auc_score, confusion_matrix\n",
        "\n",
        "svm_model = SVC(kernel = 'linear', C = 1).fit(X_train_under, y_train_under)\n",
        "svm_predict = svm_model.predict(X_test)\n",
        "\n",
        "# accuracy on X_test\n",
        "accuracy = svm_model.score(X_test, y_test)\n",
        "print(accuracy)\n",
        "under_accuracy.append(accuracy)\n",
        "\n",
        "# creating a confusion matrix\n",
        "cm = confusion_matrix(y_test, svm_predict)\n",
        "cm"
      ],
      "execution_count": 41,
      "outputs": [
        {
          "output_type": "stream",
          "name": "stdout",
          "text": [
            "0.6371016235718581\n"
          ]
        },
        {
          "output_type": "execute_result",
          "data": {
            "text/plain": [
              "array([[851, 225,  44,   0,   0],\n",
              "       [177, 355, 150,  15,   0],\n",
              "       [ 11, 235, 516, 152,  12],\n",
              "       [  0,   1,  72, 320, 105],\n",
              "       [  0,   0,   0,   8,  77]])"
            ]
          },
          "metadata": {},
          "execution_count": 41
        }
      ]
    },
    {
      "cell_type": "code",
      "metadata": {
        "colab": {
          "base_uri": "https://localhost:8080/",
          "height": 295
        },
        "id": "rch9wM_UwSMT",
        "outputId": "ebc7229b-4e7f-466e-c86b-a8460fe73c8d"
      },
      "source": [
        "import scikitplot as skplt\n",
        "p = np.array(svm_model.decision_function(X_test))\n",
        "prob = np.exp(p)/np.sum(np.exp(p),axis=1, keepdims=True)\n",
        "skplt.metrics.plot_roc(y_test, prob)\n",
        "plt.show()"
      ],
      "execution_count": 42,
      "outputs": [
        {
          "output_type": "display_data",
          "data": {
            "image/png": "[encoded data removed]",
            "text/plain": [
              "<Figure size 432x288 with 1 Axes>"
            ]
          },
          "metadata": {
            "needs_background": "light"
          }
        }
      ]
    },
    {
      "cell_type": "markdown",
      "metadata": {
        "id": "N5gFZdcewhVg"
      },
      "source": [
        "### 2. DT"
      ]
    },
    {
      "cell_type": "code",
      "metadata": {
        "colab": {
          "base_uri": "https://localhost:8080/"
        },
        "id": "n-gYJp5AwaS1",
        "outputId": "dd7c4c34-82d8-4617-a90e-2cf1ba513413"
      },
      "source": [
        "from sklearn.tree import DecisionTreeClassifier\n",
        "tree_model = DecisionTreeClassifier(max_depth = 5).fit(X_train_under, y_train_under)\n",
        "tree_predict = tree_model.predict(X_test)\n",
        "\n",
        "# accuracy on X_test\n",
        "accuracy = tree_model.score(X_test, y_test)\n",
        "print(accuracy)\n",
        "under_accuracy.append(accuracy)\n",
        "\n",
        "# creating a confusion matrix\n",
        "cm = confusion_matrix(y_test, tree_predict)\n",
        "cm"
      ],
      "execution_count": 43,
      "outputs": [
        {
          "output_type": "stream",
          "name": "stdout",
          "text": [
            "0.6070354780517138\n"
          ]
        },
        {
          "output_type": "execute_result",
          "data": {
            "text/plain": [
              "array([[599, 469,  51,   1,   0],\n",
              "       [ 47, 458, 181,  11,   0],\n",
              "       [  0, 202, 581, 138,   5],\n",
              "       [  0,   1, 123, 318,  56],\n",
              "       [  0,   0,   0,  22,  63]])"
            ]
          },
          "metadata": {},
          "execution_count": 43
        }
      ]
    },
    {
      "cell_type": "code",
      "metadata": {
        "colab": {
          "base_uri": "https://localhost:8080/",
          "height": 295
        },
        "id": "wmrUT39-wm8m",
        "outputId": "c1699788-f61f-4cbc-bce5-81b4ba72c852"
      },
      "source": [
        "probs = tree_model.predict_proba(X_test)\n",
        "p = np.array(probs)\n",
        "prob = np.exp(p)/np.sum(np.exp(p),axis=1, keepdims=True)\n",
        "skplt.metrics.plot_roc(y_test, prob)\n",
        "plt.show()"
      ],
      "execution_count": 44,
      "outputs": [
        {
          "output_type": "display_data",
          "data": {
            "image/png": "[encoded data removed]",
            "text/plain": [
              "<Figure size 432x288 with 1 Axes>"
            ]
          },
          "metadata": {
            "needs_background": "light"
          }
        }
      ]
    },
    {
      "cell_type": "markdown",
      "metadata": {
        "id": "22qoXlbSwwXx"
      },
      "source": [
        "### 3. KNN"
      ]
    },
    {
      "cell_type": "code",
      "metadata": {
        "colab": {
          "base_uri": "https://localhost:8080/"
        },
        "id": "quh1m-Hzwuck",
        "outputId": "09c86950-a816-4f5b-ae24-8034cd1b1c3d"
      },
      "source": [
        "from sklearn.neighbors import KNeighborsClassifier\n",
        "knn = KNeighborsClassifier(n_neighbors = 7).fit(X_train_under, y_train_under)\n",
        " \n",
        "# accuracy on X_test\n",
        "accuracy = knn.score(X_test, y_test)\n",
        "print(accuracy)\n",
        "under_accuracy.append(accuracy)\n",
        "\n",
        "# creating a confusion matrix\n",
        "knn_predict = knn.predict(X_test)\n",
        "cm = confusion_matrix(y_test, knn_predict)\n",
        "cm"
      ],
      "execution_count": 45,
      "outputs": [
        {
          "output_type": "stream",
          "name": "stdout",
          "text": [
            "0.5938063740228503\n"
          ]
        },
        {
          "output_type": "execute_result",
          "data": {
            "text/plain": [
              "array([[821, 244,  51,   4,   0],\n",
              "       [192, 323, 163,  18,   1],\n",
              "       [ 48, 214, 471, 177,  16],\n",
              "       [  2,   7,  76, 289, 124],\n",
              "       [  0,   0,   0,  14,  71]])"
            ]
          },
          "metadata": {},
          "execution_count": 45
        }
      ]
    },
    {
      "cell_type": "code",
      "metadata": {
        "colab": {
          "base_uri": "https://localhost:8080/",
          "height": 295
        },
        "id": "M-nOCSFgw1Qk",
        "outputId": "1ab041eb-6533-471b-b719-22f3981b8dcb"
      },
      "source": [
        "prob = knn.predict_proba(X_test)\n",
        "skplt.metrics.plot_roc(y_test, prob)\n",
        "plt.show()"
      ],
      "execution_count": 46,
      "outputs": [
        {
          "output_type": "display_data",
          "data": {
            "image/png": "[encoded data removed]",
            "text/plain": [
              "<Figure size 432x288 with 1 Axes>"
            ]
          },
          "metadata": {
            "needs_background": "light"
          }
        }
      ]
    },
    {
      "cell_type": "markdown",
      "metadata": {
        "id": "Gnf5VqjGw69U"
      },
      "source": [
        "### 4. GNB"
      ]
    },
    {
      "cell_type": "code",
      "metadata": {
        "colab": {
          "base_uri": "https://localhost:8080/"
        },
        "id": "EACf1QAXw4QZ",
        "outputId": "1cae8e0f-b57d-4790-a2ca-d9ee2c2e1073"
      },
      "source": [
        "from sklearn.naive_bayes import GaussianNB\n",
        "gnb = GaussianNB().fit(X_train_under, y_train_under)\n",
        "gnb_predict = gnb.predict(X_test)\n",
        "\n",
        "# accuracy on X_test\n",
        "accuracy = gnb.score(X_test, y_test)\n",
        "print(accuracy)\n",
        "under_accuracy.append(accuracy)\n",
        "\n",
        "# creating a confusion matrix\n",
        "cm = confusion_matrix(y_test, gnb_predict)\n",
        "cm"
      ],
      "execution_count": 47,
      "outputs": [
        {
          "output_type": "stream",
          "name": "stdout",
          "text": [
            "0.600420926037282\n"
          ]
        },
        {
          "output_type": "execute_result",
          "data": {
            "text/plain": [
              "array([[950, 134,  35,   1,   0],\n",
              "       [307, 275,  96,  17,   2],\n",
              "       [ 69, 312, 400, 126,  19],\n",
              "       [  0,   4, 111, 303,  80],\n",
              "       [  0,   0,   0,  16,  69]])"
            ]
          },
          "metadata": {},
          "execution_count": 47
        }
      ]
    },
    {
      "cell_type": "code",
      "metadata": {
        "colab": {
          "base_uri": "https://localhost:8080/",
          "height": 295
        },
        "id": "2wztg0J8xBpB",
        "outputId": "ab161c00-fa5f-4940-f1ac-6a6791053a3b"
      },
      "source": [
        "prob = gnb.predict_proba(X_test)\n",
        "skplt.metrics.plot_roc(y_test, prob)\n",
        "plt.show()"
      ],
      "execution_count": 48,
      "outputs": [
        {
          "output_type": "display_data",
          "data": {
            "image/png": "[encoded data removed]",
            "text/plain": [
              "<Figure size 432x288 with 1 Axes>"
            ]
          },
          "metadata": {
            "needs_background": "light"
          }
        }
      ]
    },
    {
      "cell_type": "markdown",
      "metadata": {
        "id": "5jPlz8C1xEg1"
      },
      "source": [
        "### 5. FNN"
      ]
    },
    {
      "cell_type": "code",
      "metadata": {
        "colab": {
          "base_uri": "https://localhost:8080/"
        },
        "id": "NzTpQ-6GxCsN",
        "outputId": "d86fb371-c932-4965-9899-565c505d83b1"
      },
      "source": [
        "from sklearn.neural_network import MLPClassifier\n",
        "fnn = MLPClassifier(solver='lbfgs', alpha=1e-5,\n",
        "                    hidden_layer_sizes=(10, 10), \n",
        "                    random_state=1, \n",
        "                    max_iter=1000).fit(X_train_under, y_train_under)\n",
        "\n",
        "# accuracy on X_test\n",
        "accuracy = fnn.score(X_test, y_test)\n",
        "print(accuracy)\n",
        "under_accuracy.append(accuracy)\n",
        "\n",
        "# creating a confusion matrix\n",
        "fnn_predict = fnn.predict(X_test)\n",
        "cm = confusion_matrix(y_test, fnn_predict)\n",
        "cm"
      ],
      "execution_count": 49,
      "outputs": [
        {
          "output_type": "stream",
          "name": "stdout",
          "text": [
            "0.6280817799158148\n"
          ]
        },
        {
          "output_type": "stream",
          "name": "stderr",
          "text": [
            "/usr/local/lib/python3.7/dist-packages/sklearn/neural_network/_multilayer_perceptron.py:549: ConvergenceWarning: lbfgs failed to converge (status=1):\n",
            "STOP: TOTAL NO. of ITERATIONS REACHED LIMIT.\n",
            "\n",
            "Increase the number of iterations (max_iter) or scale the data as shown in:\n",
            "    https://scikit-learn.org/stable/modules/preprocessing.html\n",
            "  self.n_iter_ = _check_optimize_result(\"lbfgs\", opt_res, self.max_iter)\n"
          ]
        },
        {
          "output_type": "execute_result",
          "data": {
            "text/plain": [
              "array([[809, 261,  48,   0,   2],\n",
              "       [163, 372, 149,  12,   1],\n",
              "       [ 15, 232, 506, 163,  10],\n",
              "       [  0,   2,  72, 324, 100],\n",
              "       [  0,   0,   1,   6,  78]])"
            ]
          },
          "metadata": {},
          "execution_count": 49
        }
      ]
    },
    {
      "cell_type": "code",
      "metadata": {
        "colab": {
          "base_uri": "https://localhost:8080/",
          "height": 295
        },
        "id": "kCORQy_axLvP",
        "outputId": "3c27142d-e676-48e9-e39c-aa8a3f0a5dfc"
      },
      "source": [
        "prob = fnn.predict_proba(X_test)\n",
        "skplt.metrics.plot_roc(y_test, prob)\n",
        "plt.show()"
      ],
      "execution_count": 50,
      "outputs": [
        {
          "output_type": "display_data",
          "data": {
            "image/png": "[encoded data removed]",
            "text/plain": [
              "<Figure size 432x288 with 1 Axes>"
            ]
          },
          "metadata": {
            "needs_background": "light"
          }
        }
      ]
    },
    {
      "cell_type": "markdown",
      "metadata": {
        "id": "evZoH8mPxVr4"
      },
      "source": [
        "# 6. RF"
      ]
    },
    {
      "cell_type": "code",
      "metadata": {
        "colab": {
          "base_uri": "https://localhost:8080/"
        },
        "id": "3Jti1kjWxTXs",
        "outputId": "42a8f5cd-9e77-40f6-c228-812f551806f3"
      },
      "source": [
        "from sklearn.ensemble import RandomForestClassifier\n",
        "rfc = RandomForestClassifier(max_depth=4, random_state=0).fit(X_train_under, y_train_under)\n",
        "rfc_predict = rfc.predict(X_test)\n",
        "\n",
        "# accuracy on X_test\n",
        "accuracy = rfc.score(X_test, y_test)\n",
        "print(accuracy)\n",
        "under_accuracy.append(accuracy)\n",
        "\n",
        "# creating a confusion matrix\n",
        "cm = confusion_matrix(y_test, rfc_predict)\n",
        "cm"
      ],
      "execution_count": 51,
      "outputs": [
        {
          "output_type": "stream",
          "name": "stdout",
          "text": [
            "0.639807576668671\n"
          ]
        },
        {
          "output_type": "execute_result",
          "data": {
            "text/plain": [
              "array([[742, 327,  49,   2,   0],\n",
              "       [ 98, 409, 174,  15,   1],\n",
              "       [  3, 188, 563, 162,  10],\n",
              "       [  0,   1,  69, 334,  94],\n",
              "       [  0,   0,   0,   5,  80]])"
            ]
          },
          "metadata": {},
          "execution_count": 51
        }
      ]
    },
    {
      "cell_type": "code",
      "metadata": {
        "colab": {
          "base_uri": "https://localhost:8080/",
          "height": 295
        },
        "id": "HFttxC4kxaUS",
        "outputId": "c7f4a191-3c2e-4ba4-991b-10b46d3b5b6f"
      },
      "source": [
        "prob = rfc.predict_proba(X_test)\n",
        "skplt.metrics.plot_roc(y_test, prob)\n",
        "plt.show()"
      ],
      "execution_count": 52,
      "outputs": [
        {
          "output_type": "display_data",
          "data": {
            "image/png": "[encoded data removed]",
            "text/plain": [
              "<Figure size 432x288 with 1 Axes>"
            ]
          },
          "metadata": {
            "needs_background": "light"
          }
        }
      ]
    },
    {
      "cell_type": "code",
      "metadata": {
        "colab": {
          "base_uri": "https://localhost:8080/",
          "height": 288
        },
        "id": "M1WN0wQqxc87",
        "outputId": "229797f2-5f12-46a0-bec4-877993d7606a"
      },
      "source": [
        "# plot validation accuracy of each model\n",
        "under_models = ['SVM','DT','KNN','GNB','FNN','RFC']\n",
        "fig, ax = plt.subplots()\n",
        "ax.scatter(range(len(under_models)), under_accuracy)\n",
        "\n",
        "for i, txt in enumerate(under_models):\n",
        "    ax.annotate(txt, (i, under_accuracy[i]),fontsize=20)\n",
        "ax.set_ylabel('accuracy')"
      ],
      "execution_count": 53,
      "outputs": [
        {
          "output_type": "execute_result",
          "data": {
            "text/plain": [
              "Text(0, 0.5, 'accuracy')"
            ]
          },
          "metadata": {},
          "execution_count": 53
        },
        {
          "output_type": "display_data",
          "data": {
            "image/png": "[encoded data removed]",
            "text/plain": [
              "<Figure size 432x288 with 1 Axes>"
            ]
          },
          "metadata": {
            "needs_background": "light"
          }
        }
      ]
    },
    {
      "cell_type": "markdown",
      "metadata": {
        "id": "08sxP0dtxjVE"
      },
      "source": [
        "# OverSampling"
      ]
    },
    {
      "cell_type": "code",
      "metadata": {
        "colab": {
          "base_uri": "https://localhost:8080/",
          "height": 267
        },
        "id": "D2ERQ-C3xhH4",
        "outputId": "b78bdda0-6934-4f8d-da8c-f9059e037dcb"
      },
      "source": [
        "SMOTE = SMOTE()\n",
        "X_train_SMOTE, y_train_SMOTE = SMOTE.fit_resample(X_train, y_train)\n",
        "plot_distribution(y_train_SMOTE)"
      ],
      "execution_count": 54,
      "outputs": [
        {
          "output_type": "display_data",
          "data": {
            "image/png": "[encoded data removed]",
            "text/plain": [
              "<Figure size 432x288 with 1 Axes>"
            ]
          },
          "metadata": {
            "needs_background": "light"
          }
        }
      ]
    },
    {
      "cell_type": "code",
      "metadata": {
        "id": "4X5OSPO2xsBl"
      },
      "source": [
        "# record accuracy of each model\n",
        "over_accuracy = []"
      ],
      "execution_count": 55,
      "outputs": []
    },
    {
      "cell_type": "code",
      "metadata": {
        "colab": {
          "base_uri": "https://localhost:8080/"
        },
        "id": "dJFezlHMxwN7",
        "outputId": "50dcf166-ca85-45ed-b171-15fa681acc45"
      },
      "source": [
        "rfc = RandomForestClassifier(max_depth=5, random_state=0).fit(X_train_SMOTE, y_train_SMOTE)\n",
        "rfc_predict = rfc.predict(X_test)\n",
        "\n",
        "# accuracy on X_test\n",
        "accuracy = rfc.score(X_test, y_test)\n",
        "print(accuracy)\n",
        "over_accuracy.append(accuracy)\n",
        "\n",
        "cm = confusion_matrix(y_test, rfc_predict)\n",
        "cm"
      ],
      "execution_count": 56,
      "outputs": [
        {
          "output_type": "stream",
          "name": "stdout",
          "text": [
            "0.6449188214070956\n"
          ]
        },
        {
          "output_type": "execute_result",
          "data": {
            "text/plain": [
              "array([[748, 321,  50,   1,   0],\n",
              "       [ 98, 401, 185,  13,   0],\n",
              "       [  1, 190, 564, 163,   8],\n",
              "       [  0,   1,  52, 357,  88],\n",
              "       [  0,   0,   0,  10,  75]])"
            ]
          },
          "metadata": {},
          "execution_count": 56
        }
      ]
    },
    {
      "cell_type": "code",
      "metadata": {
        "colab": {
          "base_uri": "https://localhost:8080/",
          "height": 295
        },
        "id": "FirqZk27x041",
        "outputId": "a39acf95-d55b-4297-b52e-c35110b0ddae"
      },
      "source": [
        "prob = rfc.predict_proba(X_test)\n",
        "skplt.metrics.plot_roc(y_test, prob)\n",
        "plt.show()"
      ],
      "execution_count": 57,
      "outputs": [
        {
          "output_type": "display_data",
          "data": {
            "image/png": "[encoded data removed]",
            "text/plain": [
              "<Figure size 432x288 with 1 Axes>"
            ]
          },
          "metadata": {
            "needs_background": "light"
          }
        }
      ]
    },
    {
      "cell_type": "code",
      "metadata": {
        "colab": {
          "base_uri": "https://localhost:8080/"
        },
        "id": "EKbo26zix5pp",
        "outputId": "0e3677ea-3daa-4911-90e6-90cf1f1dd521"
      },
      "source": [
        "fnn = MLPClassifier(solver='lbfgs', alpha=1e-5,\n",
        "                    hidden_layer_sizes=(10, 10), \n",
        "                    random_state=1, \n",
        "                    max_iter=2000).fit(X_train_SMOTE, y_train_SMOTE)\n",
        "\n",
        "# accuracy on X_test\n",
        "accuracy = fnn.score(X_test, y_test)\n",
        "print(accuracy)\n",
        "over_accuracy.append(accuracy)\n",
        "\n",
        "fnn_predict = fnn.predict(X_test)\n",
        "cm = confusion_matrix(y_test, fnn_predict)\n",
        "cm"
      ],
      "execution_count": 58,
      "outputs": [
        {
          "output_type": "stream",
          "name": "stdout",
          "text": [
            "0.6380036079374625\n"
          ]
        },
        {
          "output_type": "stream",
          "name": "stderr",
          "text": [
            "/usr/local/lib/python3.7/dist-packages/sklearn/neural_network/_multilayer_perceptron.py:549: ConvergenceWarning: lbfgs failed to converge (status=1):\n",
            "STOP: TOTAL NO. of ITERATIONS REACHED LIMIT.\n",
            "\n",
            "Increase the number of iterations (max_iter) or scale the data as shown in:\n",
            "    https://scikit-learn.org/stable/modules/preprocessing.html\n",
            "  self.n_iter_ = _check_optimize_result(\"lbfgs\", opt_res, self.max_iter)\n"
          ]
        },
        {
          "output_type": "execute_result",
          "data": {
            "text/plain": [
              "array([[715, 359,  46,   0,   0],\n",
              "       [ 88, 447, 146,  16,   0],\n",
              "       [  1, 243, 533, 143,   6],\n",
              "       [  0,   1,  69, 351,  77],\n",
              "       [  0,   0,   0,   9,  76]])"
            ]
          },
          "metadata": {},
          "execution_count": 58
        }
      ]
    },
    {
      "cell_type": "code",
      "metadata": {
        "id": "aw6HDjlHyEt8"
      },
      "source": [
        ""
      ],
      "execution_count": null,
      "outputs": []
    }
  ]
}